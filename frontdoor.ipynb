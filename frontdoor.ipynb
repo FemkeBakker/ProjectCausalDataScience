{
 "cells": [
  {
   "cell_type": "code",
   "execution_count": 1,
   "metadata": {},
   "outputs": [
    {
     "name": "stderr",
     "output_type": "stream",
     "text": [
      "c:\\Users\\femke\\anaconda3\\envs\\causal_data_science_env\\lib\\site-packages\\tqdm\\auto.py:22: TqdmWarning: IProgress not found. Please update jupyter and ipywidgets. See https://ipywidgets.readthedocs.io/en/stable/user_install.html\n",
      "  from .autonotebook import tqdm as notebook_tqdm\n"
     ]
    }
   ],
   "source": [
    "from graph import load_graph\n",
    "import pandas as pd\n",
    "import networkx as nx\n",
    "import numpy as np\n",
    "import dowhy\n",
    "import pandas as pd\n",
    "from dowhy import CausalModel\n",
    "from IPython.display import Image, display\n",
    "\n"
   ]
  },
  {
   "cell_type": "markdown",
   "metadata": {},
   "source": [
    "### Functions"
   ]
  },
  {
   "cell_type": "code",
   "execution_count": 2,
   "metadata": {},
   "outputs": [],
   "source": [
    "def gml_to_string(file):\n",
    "    gml_str = ''\n",
    "    with open(file, 'r') as file:\n",
    "        for line in file:\n",
    "            gml_str += line.rstrip()\n",
    "    return gml_str\n",
    "\n",
    "def get_dowhy_model(file):\n",
    "    gml_graph = gml_to_string(file)\n",
    "    df = pd.read_stata(\"data/close_college.dta\")\n",
    "\n",
    "    model=CausalModel(\n",
    "        data = df,\n",
    "        treatment='educ',\n",
    "        outcome='lwage',\n",
    "        graph=gml_graph\n",
    "        )\n",
    "    # model.view_model()\n",
    "    return model"
   ]
  },
  {
   "cell_type": "code",
   "execution_count": 3,
   "metadata": {},
   "outputs": [],
   "source": [
    "def find_mediators(paths):\n",
    "    M = set()\n",
    "    for path in paths:\n",
    "        for variable in path[1:-1]:\n",
    "            M.add(variable)\n",
    "    return M\n",
    "\n",
    "def check_backdoor_mediators(mediators, graph, direction):\n",
    "    backdoor_paths = []\n",
    "    for m in mediators:\n",
    "        if direction == 'treatment_to_m':\n",
    "            backdoor_paths.extend(graph.get_backdoor_paths(['educ'], [m]))\n",
    "\n",
    "        elif direction == 'm_to_outcome':\n",
    "            backdoor_paths.extend(graph.get_backdoor_paths([m], ['educ']))\n",
    "\n",
    "    return backdoor_paths\n",
    "\n",
    "def check_if_blocked(backdoor_paths, graph, direction):\n",
    "    path_is_blocked = []\n",
    "    for path in backdoor_paths:\n",
    "        if direction == 'treatment_to_m':\n",
    "            path_is_blocked.append(graph.is_blocked(path, conditioned_nodes = []))\n",
    "\n",
    "        elif direction == 'm_to_outcome':\n",
    "            path_is_blocked.append(graph.is_blocked(path, conditioned_nodes = ['educ']))\n",
    "\n",
    "    return path_is_blocked\n",
    "\n",
    "def check_frontdoor(graph, node1, node2):\n",
    "    all_directed_paths = graph.get_all_directed_paths([node1], [node2])\n",
    "    all_directed_paths = [path for path in all_directed_paths if len(path)>2]\n",
    "    mediators = find_mediators(all_directed_paths)\n",
    "    backdoor_paths_x_m = check_backdoor_mediators(mediators, graph, \"treatment_to_m\")\n",
    "    backdoor_paths_m_y = check_backdoor_mediators(mediators, graph, \"m_to_outcome\")\n",
    "\n",
    "    check_x_m = check_if_blocked(backdoor_paths_x_m, graph, \"treatment_to_m\")\n",
    "    check_m_y = check_if_blocked(backdoor_paths_m_y, graph, \"m_to_outcome\")\n",
    "\n",
    "    if all(check_x_m) and all(check_m_y):\n",
    "        print(\"Frontdoor criterion satisfied.\")\n",
    "\n",
    "    else:\n",
    "        print(\"Frontdoor criterion NOT satisfied.\")"
   ]
  },
  {
   "cell_type": "markdown",
   "metadata": {},
   "source": [
    "### Frontdoor criterion - Graph version = 0"
   ]
  },
  {
   "cell_type": "code",
   "execution_count": 4,
   "metadata": {},
   "outputs": [
    {
     "name": "stdout",
     "output_type": "stream",
     "text": [
      "Frontdoor criterion NOT satisfied.\n",
      "\n",
      " Estimand type: EstimandType.NONPARAMETRIC_ATE\n",
      "\n",
      "### Estimand : 1\n",
      "Estimand name: backdoor\n",
      "No such variable(s) found!\n",
      "\n",
      "### Estimand : 2\n",
      "Estimand name: iv\n",
      "No such variable(s) found!\n",
      "\n",
      "### Estimand : 3\n",
      "Estimand name: frontdoor\n",
      "No such variable(s) found!\n",
      "\n"
     ]
    }
   ],
   "source": [
    "dowhy_model = get_dowhy_model(\"graph_files/graph_version0.gml\")\n",
    "dowhy_graph = dowhy_model._graph\n",
    "check_frontdoor(dowhy_graph, 'smsa', 'exper')\n",
    "\n",
    "identified_estimand = dowhy_model.identify_effect()\n",
    "print('\\n', identified_estimand)"
   ]
  },
  {
   "cell_type": "markdown",
   "metadata": {},
   "source": [
    "### Frontdoor criterion - Graph version = 1"
   ]
  },
  {
   "cell_type": "code",
   "execution_count": 5,
   "metadata": {},
   "outputs": [
    {
     "name": "stdout",
     "output_type": "stream",
     "text": [
      "Frontdoor criterion NOT satisfied.\n",
      "\n",
      " Estimand type: EstimandType.NONPARAMETRIC_ATE\n",
      "\n",
      "### Estimand : 1\n",
      "Estimand name: backdoor\n",
      "Estimand expression:\n",
      "   d                        \n",
      "───────(E[lwage|black,smsa])\n",
      "d[educ]                     \n",
      "Estimand assumption 1, Unconfoundedness: If U→{educ} and U→lwage then P(lwage|educ,black,smsa,U) = P(lwage|educ,black,smsa)\n",
      "\n",
      "### Estimand : 2\n",
      "Estimand name: iv\n",
      "No such variable(s) found!\n",
      "\n",
      "### Estimand : 3\n",
      "Estimand name: frontdoor\n",
      "No such variable(s) found!\n",
      "\n"
     ]
    }
   ],
   "source": [
    "dowhy_model = get_dowhy_model(\"graph_files/graph_version1.gml\")\n",
    "dowhy_graph = dowhy_model._graph\n",
    "check_frontdoor(dowhy_graph, 'smsa', 'exper')\n",
    "\n",
    "identified_estimand = dowhy_model.identify_effect()\n",
    "print('\\n', identified_estimand)"
   ]
  },
  {
   "cell_type": "code",
   "execution_count": null,
   "metadata": {},
   "outputs": [],
   "source": []
  }
 ],
 "metadata": {
  "kernelspec": {
   "display_name": "causal_data_science_env",
   "language": "python",
   "name": "python3"
  },
  "language_info": {
   "codemirror_mode": {
    "name": "ipython",
    "version": 3
   },
   "file_extension": ".py",
   "mimetype": "text/x-python",
   "name": "python",
   "nbconvert_exporter": "python",
   "pygments_lexer": "ipython3",
   "version": "3.10.9"
  }
 },
 "nbformat": 4,
 "nbformat_minor": 2
}
