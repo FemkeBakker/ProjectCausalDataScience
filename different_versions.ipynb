{
 "cells": [
  {
   "cell_type": "code",
   "execution_count": null,
   "metadata": {},
   "outputs": [],
   "source": []
  },
  {
   "cell_type": "code",
   "execution_count": 1,
   "metadata": {},
   "outputs": [],
   "source": [
    "#from graph import load_graph\n",
    "import pandas as pd\n",
    "import networkx as nx\n",
    "from dowhy.causal_identifier import backdoor\n",
    "import numpy as np\n"
   ]
  },
  {
   "cell_type": "markdown",
   "metadata": {},
   "source": [
    "### Functions"
   ]
  },
  {
   "cell_type": "code",
   "execution_count": 2,
   "metadata": {},
   "outputs": [],
   "source": [
    "def get_all_possible_paths(graph):\n",
    "    # Get every path between educ and lwage. Do this being converting the graph to undirected.\n",
    "    H = graph.to_undirected()\n",
    "\n",
    "    # the all_simple_paths function finds all possible undirected paths between 'X' and 'Y' in graph H\n",
    "    all_possible_paths = list(nx.all_simple_paths(H, 'educ', 'lwage'))\n",
    "\n",
    "    # print(\"These are all posible paths between educ and lwage.\")\n",
    "    # for path in all_possible_paths:\n",
    "    #     print(path)\n",
    "\n",
    "    return all_possible_paths\n",
    "\n",
    "def get_backdoorpaths(all_possible_paths, graph):\n",
    "    # Get if path in all_possible_path is a backdoor path.\n",
    "    bd = backdoor.Backdoor(graph, 'educ', 'lwage')\n",
    "    backdoor_paths = [path for path in all_possible_paths if bd.is_backdoor(path)]\n",
    "\n",
    "    # print(\"These are all backdoor paths.\")\n",
    "    # for path in backdoor_paths:\n",
    "    #     print(path)\n",
    "\n",
    "    return backdoor_paths\n",
    "\n",
    "\n",
    "def get_adjustment_variables(backdoor_paths, graph):\n",
    "    # Create a dataframe with the paths as rows and for each path the colliders and non-colliders\n",
    "    adjustment_variables = pd.DataFrame(columns=['path', 'colliders', 'non_colliders'])\n",
    "\n",
    "    for path in backdoor_paths:\n",
    "        colliders = np.array([])\n",
    "        non_colliders = []\n",
    "        path_len = len(path)\n",
    "        for node0, node1, node2 in zip(path[0:path_len-2], path[1:path_len-1], path[2:]):\n",
    "            # if there is an arrow pointing into node1 from both sides on the path, it is a collider\n",
    "            if graph.has_edge(node0, node1) and graph.has_edge(node2, node1):\n",
    "                colliders = np.append(colliders, list(nx.descendants(graph,node1)) + [node1]) # so we add it (and all its descendants) to the list\n",
    "\n",
    "        # we flatten the list of list\n",
    "        colliders = colliders.flatten()\n",
    "        non_colliders = [x for x in path[1:-1] if all(x_i != x for x_i in colliders)]\n",
    "\n",
    "        adjustment_variables.loc[len(adjustment_variables.index)] = [path, colliders, non_colliders] \n",
    "\n",
    "    return adjustment_variables  \n"
   ]
  },
  {
   "cell_type": "code",
   "execution_count": 3,
   "metadata": {},
   "outputs": [],
   "source": [
    "def backdoor_criterion(graph):\n",
    "    possible_paths = get_all_possible_paths(graph)\n",
    "    backdoor_paths = get_backdoorpaths(possible_paths, graph)\n",
    "    adjustment_variables = get_adjustment_variables(backdoor_paths, graph)\n",
    "    return adjustment_variables"
   ]
  },
  {
   "cell_type": "markdown",
   "metadata": {},
   "source": [
    "DoWhy functions"
   ]
  },
  {
   "cell_type": "code",
   "execution_count": 4,
   "metadata": {},
   "outputs": [],
   "source": [
    "import dowhy\n",
    "from dowhy import CausalModel\n",
    "from IPython.display import Image, display\n",
    "\n",
    "# a utility function to parse the .gml file to string\n",
    "def gml_to_string(file):\n",
    "    gml_str = ''\n",
    "    with open(file, 'r') as file:\n",
    "        for line in file:\n",
    "            gml_str += line.rstrip()\n",
    "    return gml_str\n",
    "\n",
    "\n",
    "def dowhy_backdoor(file):\n",
    "\n",
    "    # creating arbitrary data\n",
    "    df = pd.read_stata(\"data/close_college.dta\")\n",
    "\n",
    "    gml_graph = gml_to_string(file)\n",
    "    # With GML string\n",
    "    model=CausalModel(\n",
    "        data = df,\n",
    "        treatment='educ',\n",
    "        outcome='lwage',\n",
    "        graph=gml_graph\n",
    "    )\n",
    "\n",
    "    identified_estimand = model.identify_effect()\n",
    "    print(identified_estimand)\n"
   ]
  },
  {
   "cell_type": "code",
   "execution_count": 5,
   "metadata": {},
   "outputs": [],
   "source": [
    "# a utility function to parse the .gml file to string\n",
    "def gml_to_string(file):\n",
    "    gml_str = ''\n",
    "    with open(file, 'r') as file:\n",
    "        for line in file:\n",
    "            gml_str += line.rstrip()\n",
    "    return gml_str"
   ]
  },
  {
   "cell_type": "code",
   "execution_count": 6,
   "metadata": {},
   "outputs": [
    {
     "data": {
      "text/html": [
       "<div>\n",
       "<style scoped>\n",
       "    .dataframe tbody tr th:only-of-type {\n",
       "        vertical-align: middle;\n",
       "    }\n",
       "\n",
       "    .dataframe tbody tr th {\n",
       "        vertical-align: top;\n",
       "    }\n",
       "\n",
       "    .dataframe thead th {\n",
       "        text-align: right;\n",
       "    }\n",
       "</style>\n",
       "<table border=\"1\" class=\"dataframe\">\n",
       "  <thead>\n",
       "    <tr style=\"text-align: right;\">\n",
       "      <th></th>\n",
       "      <th>nearc4</th>\n",
       "      <th>educ</th>\n",
       "      <th>black</th>\n",
       "      <th>smsa</th>\n",
       "      <th>south</th>\n",
       "      <th>married</th>\n",
       "      <th>exper</th>\n",
       "      <th>lwage</th>\n",
       "    </tr>\n",
       "  </thead>\n",
       "  <tbody>\n",
       "    <tr>\n",
       "      <th>0</th>\n",
       "      <td>0</td>\n",
       "      <td>7</td>\n",
       "      <td>1</td>\n",
       "      <td>1</td>\n",
       "      <td>0</td>\n",
       "      <td>1.0</td>\n",
       "      <td>16</td>\n",
       "      <td>6.306275</td>\n",
       "    </tr>\n",
       "    <tr>\n",
       "      <th>1</th>\n",
       "      <td>0</td>\n",
       "      <td>12</td>\n",
       "      <td>0</td>\n",
       "      <td>1</td>\n",
       "      <td>0</td>\n",
       "      <td>1.0</td>\n",
       "      <td>9</td>\n",
       "      <td>6.175867</td>\n",
       "    </tr>\n",
       "    <tr>\n",
       "      <th>2</th>\n",
       "      <td>0</td>\n",
       "      <td>12</td>\n",
       "      <td>0</td>\n",
       "      <td>1</td>\n",
       "      <td>0</td>\n",
       "      <td>1.0</td>\n",
       "      <td>16</td>\n",
       "      <td>6.580639</td>\n",
       "    </tr>\n",
       "    <tr>\n",
       "      <th>3</th>\n",
       "      <td>1</td>\n",
       "      <td>11</td>\n",
       "      <td>0</td>\n",
       "      <td>1</td>\n",
       "      <td>0</td>\n",
       "      <td>1.0</td>\n",
       "      <td>10</td>\n",
       "      <td>5.521461</td>\n",
       "    </tr>\n",
       "    <tr>\n",
       "      <th>4</th>\n",
       "      <td>1</td>\n",
       "      <td>12</td>\n",
       "      <td>0</td>\n",
       "      <td>1</td>\n",
       "      <td>0</td>\n",
       "      <td>1.0</td>\n",
       "      <td>16</td>\n",
       "      <td>6.591674</td>\n",
       "    </tr>\n",
       "  </tbody>\n",
       "</table>\n",
       "</div>"
      ],
      "text/plain": [
       "   nearc4  educ  black  smsa  south  married  exper     lwage\n",
       "0       0     7      1     1      0      1.0     16  6.306275\n",
       "1       0    12      0     1      0      1.0      9  6.175867\n",
       "2       0    12      0     1      0      1.0     16  6.580639\n",
       "3       1    11      0     1      0      1.0     10  5.521461\n",
       "4       1    12      0     1      0      1.0     16  6.591674"
      ]
     },
     "metadata": {},
     "output_type": "display_data"
    },
    {
     "data": {
      "image/png": "[encoded data removed]",
      "text/latex": [
       "$\\displaystyle \\left( 3010, \\  8\\right)$"
      ],
      "text/plain": [
       "(3010, 8)"
      ]
     },
     "execution_count": 6,
     "metadata": {},
     "output_type": "execute_result"
    }
   ],
   "source": [
    "df = pd.read_stata(\"data/close_college.dta\")\n",
    "display(df.head())\n",
    "df.shape"
   ]
  },
  {
   "cell_type": "markdown",
   "metadata": {},
   "source": [
    "### Backdoor criterion - Graph version = 0"
   ]
  },
  {
   "cell_type": "code",
   "execution_count": 7,
   "metadata": {},
   "outputs": [],
   "source": [
    "from graph import load_graph\n",
    "import pandas as pd\n",
    "import networkx as nx\n",
    "\n",
    "G = load_graph(version=0)\n",
    "# nx.draw(G, with_labels=True, node_size=1000, font_size=8)\n"
   ]
  },
  {
   "cell_type": "markdown",
   "metadata": {},
   "source": [
    "educ -> smsa results in all variables being a descendant of educ\n",
    "\n",
    "And since descendats cannot be in adjustment set, the backdoor criterion cannot be satisfied. Because there are open backdoor paths between educ an lwage qwithout any variable in the adjustment set Z."
   ]
  },
  {
   "cell_type": "code",
   "execution_count": 8,
   "metadata": {},
   "outputs": [
    {
     "data": {
      "text/html": [
       "<div>\n",
       "<style scoped>\n",
       "    .dataframe tbody tr th:only-of-type {\n",
       "        vertical-align: middle;\n",
       "    }\n",
       "\n",
       "    .dataframe tbody tr th {\n",
       "        vertical-align: top;\n",
       "    }\n",
       "\n",
       "    .dataframe thead th {\n",
       "        text-align: right;\n",
       "    }\n",
       "</style>\n",
       "<table border=\"1\" class=\"dataframe\">\n",
       "  <thead>\n",
       "    <tr style=\"text-align: right;\">\n",
       "      <th></th>\n",
       "      <th>path</th>\n",
       "      <th>colliders</th>\n",
       "      <th>non_colliders</th>\n",
       "    </tr>\n",
       "  </thead>\n",
       "  <tbody>\n",
       "    <tr>\n",
       "      <th>0</th>\n",
       "      <td>[educ, nearc4, smsa, south, black, lwage]</td>\n",
       "      <td>[]</td>\n",
       "      <td>[nearc4, smsa, south, black]</td>\n",
       "    </tr>\n",
       "    <tr>\n",
       "      <th>1</th>\n",
       "      <td>[educ, nearc4, smsa, black, lwage]</td>\n",
       "      <td>[]</td>\n",
       "      <td>[nearc4, smsa, black]</td>\n",
       "    </tr>\n",
       "    <tr>\n",
       "      <th>2</th>\n",
       "      <td>[educ, nearc4, smsa, lwage]</td>\n",
       "      <td>[]</td>\n",
       "      <td>[nearc4, smsa]</td>\n",
       "    </tr>\n",
       "    <tr>\n",
       "      <th>3</th>\n",
       "      <td>[educ, black, lwage]</td>\n",
       "      <td>[]</td>\n",
       "      <td>[black]</td>\n",
       "    </tr>\n",
       "    <tr>\n",
       "      <th>4</th>\n",
       "      <td>[educ, black, smsa, lwage]</td>\n",
       "      <td>[]</td>\n",
       "      <td>[black, smsa]</td>\n",
       "    </tr>\n",
       "    <tr>\n",
       "      <th>5</th>\n",
       "      <td>[educ, black, south, smsa, lwage]</td>\n",
       "      <td>[]</td>\n",
       "      <td>[black, south, smsa]</td>\n",
       "    </tr>\n",
       "  </tbody>\n",
       "</table>\n",
       "</div>"
      ],
      "text/plain": [
       "                                        path colliders  \\\n",
       "0  [educ, nearc4, smsa, south, black, lwage]        []   \n",
       "1         [educ, nearc4, smsa, black, lwage]        []   \n",
       "2                [educ, nearc4, smsa, lwage]        []   \n",
       "3                       [educ, black, lwage]        []   \n",
       "4                 [educ, black, smsa, lwage]        []   \n",
       "5          [educ, black, south, smsa, lwage]        []   \n",
       "\n",
       "                  non_colliders  \n",
       "0  [nearc4, smsa, south, black]  \n",
       "1         [nearc4, smsa, black]  \n",
       "2                [nearc4, smsa]  \n",
       "3                       [black]  \n",
       "4                 [black, smsa]  \n",
       "5          [black, south, smsa]  "
      ]
     },
     "metadata": {},
     "output_type": "display_data"
    },
    {
     "name": "stdout",
     "output_type": "stream",
     "text": [
      "Descendants of educ are: {'smsa', 'nearc4', 'exper', 'educ', 'married', 'lwage', 'black', 'south'}\n",
      "These variables cannot be included in the adjustment set.\n"
     ]
    }
   ],
   "source": [
    "adjustment_variables = backdoor_criterion(G)\n",
    "display(adjustment_variables)\n",
    "print(f\"Descendants of educ are: {nx.descendants(G,'educ') | {'educ'}}\")\n",
    "print(\"These variables cannot be included in the adjustment set.\")"
   ]
  },
  {
   "cell_type": "markdown",
   "metadata": {},
   "source": [
    "**Adjustment set**\n",
    "\n",
    "Not possible, backdoor criterion is not satisfied."
   ]
  },
  {
   "cell_type": "code",
   "execution_count": 9,
   "metadata": {},
   "outputs": [
    {
     "data": {
      "image/png": "[encoded data removed]",
      "text/plain": [
       "<Figure size 800x600 with 1 Axes>"
      ]
     },
     "metadata": {},
     "output_type": "display_data"
    }
   ],
   "source": [
    "model=CausalModel(\n",
    "        data = df,\n",
    "        treatment='educ',\n",
    "        outcome='lwage',\n",
    "        graph=G\n",
    "        )\n",
    "model.view_model()"
   ]
  },
  {
   "cell_type": "code",
   "execution_count": 10,
   "metadata": {},
   "outputs": [
    {
     "name": "stdout",
     "output_type": "stream",
     "text": [
      "Estimand type: EstimandType.NONPARAMETRIC_ATE\n",
      "\n",
      "### Estimand : 1\n",
      "Estimand name: backdoor\n",
      "No such variable(s) found!\n",
      "\n",
      "### Estimand : 2\n",
      "Estimand name: iv\n",
      "No such variable(s) found!\n",
      "\n",
      "### Estimand : 3\n",
      "Estimand name: frontdoor\n",
      "No such variable(s) found!\n",
      "\n"
     ]
    }
   ],
   "source": [
    "identified_estimand = model.identify_effect(proceed_when_unidentifiable=True)\n",
    "print(identified_estimand)"
   ]
  },
  {
   "cell_type": "code",
   "execution_count": 11,
   "metadata": {},
   "outputs": [
    {
     "name": "stdout",
     "output_type": "stream",
     "text": [
      "Estimation failed! No relevant identified estimand available for this estimation method.\n",
      "Causal Estimate is None\n"
     ]
    }
   ],
   "source": [
    "causal_estimate = model.estimate_effect(identified_estimand,\n",
    "        method_name=\"backdoor.linear_regression\")\n",
    "print(causal_estimate)\n",
    "print(\"Causal Estimate is \" + str(causal_estimate.value))"
   ]
  },
  {
   "cell_type": "markdown",
   "metadata": {},
   "source": [
    "### Backdoor criterion - Graph version = 1"
   ]
  },
  {
   "cell_type": "code",
   "execution_count": 12,
   "metadata": {},
   "outputs": [],
   "source": [
    "from graph import load_graph\n",
    "import pandas as pd\n",
    "import networkx as nx\n",
    "import numpy as np\n",
    "\n",
    "G = load_graph(version=1)\n",
    "# nx.draw(G, with_labels=True, node_size=1000, font_size=8)\n"
   ]
  },
  {
   "cell_type": "code",
   "execution_count": 13,
   "metadata": {},
   "outputs": [
    {
     "data": {
      "text/html": [
       "<div>\n",
       "<style scoped>\n",
       "    .dataframe tbody tr th:only-of-type {\n",
       "        vertical-align: middle;\n",
       "    }\n",
       "\n",
       "    .dataframe tbody tr th {\n",
       "        vertical-align: top;\n",
       "    }\n",
       "\n",
       "    .dataframe thead th {\n",
       "        text-align: right;\n",
       "    }\n",
       "</style>\n",
       "<table border=\"1\" class=\"dataframe\">\n",
       "  <thead>\n",
       "    <tr style=\"text-align: right;\">\n",
       "      <th></th>\n",
       "      <th>path</th>\n",
       "      <th>colliders</th>\n",
       "      <th>non_colliders</th>\n",
       "    </tr>\n",
       "  </thead>\n",
       "  <tbody>\n",
       "    <tr>\n",
       "      <th>0</th>\n",
       "      <td>[educ, nearc4, smsa, south, black, lwage]</td>\n",
       "      <td>[]</td>\n",
       "      <td>[nearc4, smsa, south, black]</td>\n",
       "    </tr>\n",
       "    <tr>\n",
       "      <th>1</th>\n",
       "      <td>[educ, nearc4, smsa, black, lwage]</td>\n",
       "      <td>[]</td>\n",
       "      <td>[nearc4, smsa, black]</td>\n",
       "    </tr>\n",
       "    <tr>\n",
       "      <th>2</th>\n",
       "      <td>[educ, nearc4, smsa, lwage]</td>\n",
       "      <td>[]</td>\n",
       "      <td>[nearc4, smsa]</td>\n",
       "    </tr>\n",
       "    <tr>\n",
       "      <th>3</th>\n",
       "      <td>[educ, black, lwage]</td>\n",
       "      <td>[]</td>\n",
       "      <td>[black]</td>\n",
       "    </tr>\n",
       "    <tr>\n",
       "      <th>4</th>\n",
       "      <td>[educ, black, smsa, lwage]</td>\n",
       "      <td>[]</td>\n",
       "      <td>[black, smsa]</td>\n",
       "    </tr>\n",
       "    <tr>\n",
       "      <th>5</th>\n",
       "      <td>[educ, black, south, smsa, lwage]</td>\n",
       "      <td>[]</td>\n",
       "      <td>[black, south, smsa]</td>\n",
       "    </tr>\n",
       "  </tbody>\n",
       "</table>\n",
       "</div>"
      ],
      "text/plain": [
       "                                        path colliders  \\\n",
       "0  [educ, nearc4, smsa, south, black, lwage]        []   \n",
       "1         [educ, nearc4, smsa, black, lwage]        []   \n",
       "2                [educ, nearc4, smsa, lwage]        []   \n",
       "3                       [educ, black, lwage]        []   \n",
       "4                 [educ, black, smsa, lwage]        []   \n",
       "5          [educ, black, south, smsa, lwage]        []   \n",
       "\n",
       "                  non_colliders  \n",
       "0  [nearc4, smsa, south, black]  \n",
       "1         [nearc4, smsa, black]  \n",
       "2                [nearc4, smsa]  \n",
       "3                       [black]  \n",
       "4                 [black, smsa]  \n",
       "5          [black, south, smsa]  "
      ]
     },
     "metadata": {},
     "output_type": "display_data"
    },
    {
     "name": "stdout",
     "output_type": "stream",
     "text": [
      "Descendants of educ are: {'lwage', 'exper', 'educ'}\n",
      "These variables cannot be included in the adjustment set.\n"
     ]
    }
   ],
   "source": [
    "adjustment_variables = backdoor_criterion(G)\n",
    "display(adjustment_variables)\n",
    "print(f\"Descendants of educ are: {nx.descendants(G,'educ') | {'educ'}}\")\n",
    "print(\"These variables cannot be included in the adjustment set.\")"
   ]
  },
  {
   "cell_type": "markdown",
   "metadata": {},
   "source": [
    "**Adjustment sets**\n",
    "\n",
    "- Minimum: black, nearc4 OR black, smsa\n",
    "\n",
    "Other posibilities\n",
    "- black, nearc4\n",
    "- black, nearc4, smsa\n",
    "- black, nearc4, south\n",
    "- black, nearc4, smsa, south\n"
   ]
  },
  {
   "cell_type": "markdown",
   "metadata": {},
   "source": [
    "**DoWhy**"
   ]
  },
  {
   "cell_type": "code",
   "execution_count": 14,
   "metadata": {},
   "outputs": [
    {
     "name": "stdout",
     "output_type": "stream",
     "text": [
      "Estimand type: EstimandType.NONPARAMETRIC_ATE\n",
      "\n",
      "### Estimand : 1\n",
      "Estimand name: backdoor\n",
      "Estimand expression:\n",
      "   d                          \n",
      "───────(E[lwage|nearc4,black])\n",
      "d[educ]                       \n",
      "Estimand assumption 1, Unconfoundedness: If U→{educ} and U→lwage then P(lwage|educ,nearc4,black,U) = P(lwage|educ,nearc4,black)\n",
      "\n",
      "### Estimand : 2\n",
      "Estimand name: iv\n",
      "No such variable(s) found!\n",
      "\n",
      "### Estimand : 3\n",
      "Estimand name: frontdoor\n",
      "No such variable(s) found!\n",
      "\n"
     ]
    }
   ],
   "source": [
    "import dowhy\n",
    "from dowhy import CausalModel\n",
    "from IPython.display import Image, display\n",
    "\n",
    "# a utility function to parse the .gml file to string\n",
    "def gml_to_string(file):\n",
    "    gml_str = ''\n",
    "    with open(file, 'r') as file:\n",
    "        for line in file:\n",
    "            gml_str += line.rstrip()\n",
    "    return gml_str\n",
    "\n",
    "\n",
    "def dowhy_backdoor(file):\n",
    "\n",
    "    # creating arbitrary data\n",
    "    df = pd.read_stata(\"data/close_college.dta\")\n",
    "\n",
    "    gml_graph = gml_to_string(file)\n",
    "    # With GML string\n",
    "    model=CausalModel(\n",
    "        data = df,\n",
    "        treatment='educ',\n",
    "        outcome='lwage',\n",
    "        graph=gml_graph\n",
    "    )\n",
    "\n",
    "    identified_estimand = model.identify_effect()\n",
    "    print(identified_estimand)\n",
    "\n",
    "dowhy_backdoor(\"graph_files/graph_version1.gml\")"
   ]
  },
  {
   "cell_type": "code",
   "execution_count": 15,
   "metadata": {},
   "outputs": [
    {
     "data": {
      "image/png": "[encoded data removed]",
      "text/plain": [
       "<Figure size 800x600 with 1 Axes>"
      ]
     },
     "metadata": {},
     "output_type": "display_data"
    }
   ],
   "source": [
    "model=CausalModel(\n",
    "        data = df,\n",
    "        treatment='educ',\n",
    "        outcome='lwage',\n",
    "        graph=G\n",
    "        )\n",
    "model.view_model()"
   ]
  },
  {
   "cell_type": "code",
   "execution_count": 16,
   "metadata": {},
   "outputs": [
    {
     "name": "stdout",
     "output_type": "stream",
     "text": [
      "Estimand type: EstimandType.NONPARAMETRIC_ATE\n",
      "\n",
      "### Estimand : 1\n",
      "Estimand name: backdoor\n",
      "Estimand expression:\n",
      "   d                          \n",
      "───────(E[lwage|nearc4,black])\n",
      "d[educ]                       \n",
      "Estimand assumption 1, Unconfoundedness: If U→{educ} and U→lwage then P(lwage|educ,nearc4,black,U) = P(lwage|educ,nearc4,black)\n",
      "\n",
      "### Estimand : 2\n",
      "Estimand name: iv\n",
      "No such variable(s) found!\n",
      "\n",
      "### Estimand : 3\n",
      "Estimand name: frontdoor\n",
      "No such variable(s) found!\n",
      "\n"
     ]
    }
   ],
   "source": [
    "identified_estimand = model.identify_effect(proceed_when_unidentifiable=True)\n",
    "print(identified_estimand)"
   ]
  },
  {
   "cell_type": "code",
   "execution_count": 17,
   "metadata": {},
   "outputs": [
    {
     "name": "stdout",
     "output_type": "stream",
     "text": [
      "*** Causal Estimate ***\n",
      "\n",
      "## Identified estimand\n",
      "Estimand type: EstimandType.NONPARAMETRIC_ATE\n",
      "\n",
      "### Estimand : 1\n",
      "Estimand name: backdoor\n",
      "Estimand expression:\n",
      "   d                          \n",
      "───────(E[lwage|nearc4,black])\n",
      "d[educ]                       \n",
      "Estimand assumption 1, Unconfoundedness: If U→{educ} and U→lwage then P(lwage|educ,nearc4,black,U) = P(lwage|educ,nearc4,black)\n",
      "\n",
      "## Realized estimand\n",
      "b: lwage~educ+nearc4+black\n",
      "Target units: ate\n",
      "\n",
      "## Estimate\n",
      "Mean value: 0.03908018280075343\n",
      "\n",
      "Causal Estimate is 0.03908018280075343\n"
     ]
    },
    {
     "name": "stderr",
     "output_type": "stream",
     "text": [
      "C:\\Users\\Harry\\anaconda3\\Lib\\site-packages\\dowhy\\causal_estimators\\regression_estimator.py:179: FutureWarning: Series.__getitem__ treating keys as positions is deprecated. In a future version, integer keys will always be treated as labels (consistent with DataFrame behavior). To access a value by position, use `ser.iloc[pos]`\n",
      "  intercept_parameter = self.model.params[0]\n"
     ]
    }
   ],
   "source": [
    "causal_estimate = model.estimate_effect(identified_estimand,\n",
    "        method_name=\"backdoor.linear_regression\")\n",
    "print(causal_estimate)\n",
    "print(\"Causal Estimate is \" + str(causal_estimate.value))"
   ]
  },
  {
   "cell_type": "markdown",
   "metadata": {},
   "source": [
    "#### version 2"
   ]
  },
  {
   "cell_type": "markdown",
   "metadata": {},
   "source": []
  },
  {
   "cell_type": "code",
   "execution_count": 18,
   "metadata": {},
   "outputs": [
    {
     "data": {
      "text/html": [
       "<div>\n",
       "<style scoped>\n",
       "    .dataframe tbody tr th:only-of-type {\n",
       "        vertical-align: middle;\n",
       "    }\n",
       "\n",
       "    .dataframe tbody tr th {\n",
       "        vertical-align: top;\n",
       "    }\n",
       "\n",
       "    .dataframe thead th {\n",
       "        text-align: right;\n",
       "    }\n",
       "</style>\n",
       "<table border=\"1\" class=\"dataframe\">\n",
       "  <thead>\n",
       "    <tr style=\"text-align: right;\">\n",
       "      <th></th>\n",
       "      <th>path</th>\n",
       "      <th>colliders</th>\n",
       "      <th>non_colliders</th>\n",
       "    </tr>\n",
       "  </thead>\n",
       "  <tbody>\n",
       "    <tr>\n",
       "      <th>0</th>\n",
       "      <td>[educ, nearc4, smsa, black, lwage]</td>\n",
       "      <td>[]</td>\n",
       "      <td>[nearc4, smsa, black]</td>\n",
       "    </tr>\n",
       "    <tr>\n",
       "      <th>1</th>\n",
       "      <td>[educ, nearc4, smsa, lwage]</td>\n",
       "      <td>[]</td>\n",
       "      <td>[nearc4, smsa]</td>\n",
       "    </tr>\n",
       "    <tr>\n",
       "      <th>2</th>\n",
       "      <td>[educ, black, lwage]</td>\n",
       "      <td>[]</td>\n",
       "      <td>[black]</td>\n",
       "    </tr>\n",
       "    <tr>\n",
       "      <th>3</th>\n",
       "      <td>[educ, black, smsa, lwage]</td>\n",
       "      <td>[]</td>\n",
       "      <td>[black, smsa]</td>\n",
       "    </tr>\n",
       "    <tr>\n",
       "      <th>4</th>\n",
       "      <td>[educ, smsa, black, lwage]</td>\n",
       "      <td>[]</td>\n",
       "      <td>[smsa, black]</td>\n",
       "    </tr>\n",
       "    <tr>\n",
       "      <th>5</th>\n",
       "      <td>[educ, smsa, lwage]</td>\n",
       "      <td>[]</td>\n",
       "      <td>[smsa]</td>\n",
       "    </tr>\n",
       "  </tbody>\n",
       "</table>\n",
       "</div>"
      ],
      "text/plain": [
       "                                 path colliders          non_colliders\n",
       "0  [educ, nearc4, smsa, black, lwage]        []  [nearc4, smsa, black]\n",
       "1         [educ, nearc4, smsa, lwage]        []         [nearc4, smsa]\n",
       "2                [educ, black, lwage]        []                [black]\n",
       "3          [educ, black, smsa, lwage]        []          [black, smsa]\n",
       "4          [educ, smsa, black, lwage]        []          [smsa, black]\n",
       "5                 [educ, smsa, lwage]        []                 [smsa]"
      ]
     },
     "metadata": {},
     "output_type": "display_data"
    },
    {
     "name": "stdout",
     "output_type": "stream",
     "text": [
      "Descendants of educ are: {'lwage', 'exper', 'educ'}\n",
      "These variables cannot be included in the adjustment set.\n",
      "Estimand type: EstimandType.NONPARAMETRIC_ATE\n",
      "\n",
      "### Estimand : 1\n",
      "Estimand name: backdoor\n",
      "Estimand expression:\n",
      "   d                        \n",
      "───────(E[lwage|smsa,black])\n",
      "d[educ]                     \n",
      "Estimand assumption 1, Unconfoundedness: If U→{educ} and U→lwage then P(lwage|educ,smsa,black,U) = P(lwage|educ,smsa,black)\n",
      "\n",
      "### Estimand : 2\n",
      "Estimand name: iv\n",
      "No such variable(s) found!\n",
      "\n",
      "### Estimand : 3\n",
      "Estimand name: frontdoor\n",
      "No such variable(s) found!\n",
      "\n"
     ]
    }
   ],
   "source": [
    "from graph import load_graph\n",
    "import pandas as pd\n",
    "import networkx as nx\n",
    "import numpy as np\n",
    "\n",
    "G = load_graph(version=2)\n",
    "# nx.draw(G, with_labels=True, node_size=1000, font_size=8)\n",
    "\n",
    "adjustment_variables = backdoor_criterion(G)\n",
    "display(adjustment_variables)\n",
    "print(f\"Descendants of educ are: {nx.descendants(G,'educ') | {'educ'}}\")\n",
    "print(\"These variables cannot be included in the adjustment set.\")\n",
    "dowhy_backdoor(\"graph_files/graph_version2.gml\")\n"
   ]
  },
  {
   "cell_type": "code",
   "execution_count": 19,
   "metadata": {},
   "outputs": [
    {
     "name": "stdout",
     "output_type": "stream",
     "text": [
      "Estimand type: EstimandType.NONPARAMETRIC_ATE\n",
      "\n",
      "### Estimand : 1\n",
      "Estimand name: backdoor\n",
      "Estimand expression:\n",
      "   d                          \n",
      "───────(E[lwage|nearc4,black])\n",
      "d[educ]                       \n",
      "Estimand assumption 1, Unconfoundedness: If U→{educ} and U→lwage then P(lwage|educ,nearc4,black,U) = P(lwage|educ,nearc4,black)\n",
      "\n",
      "### Estimand : 2\n",
      "Estimand name: iv\n",
      "No such variable(s) found!\n",
      "\n",
      "### Estimand : 3\n",
      "Estimand name: frontdoor\n",
      "No such variable(s) found!\n",
      "\n"
     ]
    }
   ],
   "source": [
    "identified_estimand = model.identify_effect(proceed_when_unidentifiable=True)\n",
    "print(identified_estimand)"
   ]
  },
  {
   "cell_type": "code",
   "execution_count": 20,
   "metadata": {},
   "outputs": [
    {
     "name": "stdout",
     "output_type": "stream",
     "text": [
      "*** Causal Estimate ***\n",
      "\n",
      "## Identified estimand\n",
      "Estimand type: EstimandType.NONPARAMETRIC_ATE\n",
      "\n",
      "### Estimand : 1\n",
      "Estimand name: backdoor\n",
      "Estimand expression:\n",
      "   d                          \n",
      "───────(E[lwage|nearc4,black])\n",
      "d[educ]                       \n",
      "Estimand assumption 1, Unconfoundedness: If U→{educ} and U→lwage then P(lwage|educ,nearc4,black,U) = P(lwage|educ,nearc4,black)\n",
      "\n",
      "## Realized estimand\n",
      "b: lwage~educ+nearc4+black\n",
      "Target units: ate\n",
      "\n",
      "## Estimate\n",
      "Mean value: 0.03908018280075343\n",
      "\n",
      "Causal Estimate is 0.03908018280075343\n"
     ]
    },
    {
     "name": "stderr",
     "output_type": "stream",
     "text": [
      "C:\\Users\\Harry\\anaconda3\\Lib\\site-packages\\dowhy\\causal_estimators\\regression_estimator.py:179: FutureWarning: Series.__getitem__ treating keys as positions is deprecated. In a future version, integer keys will always be treated as labels (consistent with DataFrame behavior). To access a value by position, use `ser.iloc[pos]`\n",
      "  intercept_parameter = self.model.params[0]\n"
     ]
    }
   ],
   "source": [
    "causal_estimate = model.estimate_effect(identified_estimand,\n",
    "        method_name=\"backdoor.linear_regression\")\n",
    "print(causal_estimate)\n",
    "print(\"Causal Estimate is \" + str(causal_estimate.value))"
   ]
  },
  {
   "cell_type": "markdown",
   "metadata": {},
   "source": [
    "## VERSION 3"
   ]
  },
  {
   "cell_type": "code",
   "execution_count": 21,
   "metadata": {},
   "outputs": [
    {
     "data": {
      "text/html": [
       "<div>\n",
       "<style scoped>\n",
       "    .dataframe tbody tr th:only-of-type {\n",
       "        vertical-align: middle;\n",
       "    }\n",
       "\n",
       "    .dataframe tbody tr th {\n",
       "        vertical-align: top;\n",
       "    }\n",
       "\n",
       "    .dataframe thead th {\n",
       "        text-align: right;\n",
       "    }\n",
       "</style>\n",
       "<table border=\"1\" class=\"dataframe\">\n",
       "  <thead>\n",
       "    <tr style=\"text-align: right;\">\n",
       "      <th></th>\n",
       "      <th>path</th>\n",
       "      <th>colliders</th>\n",
       "      <th>non_colliders</th>\n",
       "    </tr>\n",
       "  </thead>\n",
       "  <tbody>\n",
       "    <tr>\n",
       "      <th>0</th>\n",
       "      <td>[educ, nearc4, smsa, black, lwage]</td>\n",
       "      <td>[]</td>\n",
       "      <td>[nearc4, smsa, black]</td>\n",
       "    </tr>\n",
       "    <tr>\n",
       "      <th>1</th>\n",
       "      <td>[educ, nearc4, smsa, black, exper, lwage]</td>\n",
       "      <td>[]</td>\n",
       "      <td>[nearc4, smsa, black, exper]</td>\n",
       "    </tr>\n",
       "    <tr>\n",
       "      <th>2</th>\n",
       "      <td>[educ, nearc4, smsa, lwage]</td>\n",
       "      <td>[]</td>\n",
       "      <td>[nearc4, smsa]</td>\n",
       "    </tr>\n",
       "    <tr>\n",
       "      <th>3</th>\n",
       "      <td>[educ, black, lwage]</td>\n",
       "      <td>[]</td>\n",
       "      <td>[black]</td>\n",
       "    </tr>\n",
       "    <tr>\n",
       "      <th>4</th>\n",
       "      <td>[educ, black, exper, lwage]</td>\n",
       "      <td>[]</td>\n",
       "      <td>[black, exper]</td>\n",
       "    </tr>\n",
       "    <tr>\n",
       "      <th>5</th>\n",
       "      <td>[educ, black, smsa, lwage]</td>\n",
       "      <td>[]</td>\n",
       "      <td>[black, smsa]</td>\n",
       "    </tr>\n",
       "    <tr>\n",
       "      <th>6</th>\n",
       "      <td>[educ, smsa, black, lwage]</td>\n",
       "      <td>[]</td>\n",
       "      <td>[smsa, black]</td>\n",
       "    </tr>\n",
       "    <tr>\n",
       "      <th>7</th>\n",
       "      <td>[educ, smsa, black, exper, lwage]</td>\n",
       "      <td>[]</td>\n",
       "      <td>[smsa, black, exper]</td>\n",
       "    </tr>\n",
       "    <tr>\n",
       "      <th>8</th>\n",
       "      <td>[educ, smsa, lwage]</td>\n",
       "      <td>[]</td>\n",
       "      <td>[smsa]</td>\n",
       "    </tr>\n",
       "  </tbody>\n",
       "</table>\n",
       "</div>"
      ],
      "text/plain": [
       "                                        path colliders  \\\n",
       "0         [educ, nearc4, smsa, black, lwage]        []   \n",
       "1  [educ, nearc4, smsa, black, exper, lwage]        []   \n",
       "2                [educ, nearc4, smsa, lwage]        []   \n",
       "3                       [educ, black, lwage]        []   \n",
       "4                [educ, black, exper, lwage]        []   \n",
       "5                 [educ, black, smsa, lwage]        []   \n",
       "6                 [educ, smsa, black, lwage]        []   \n",
       "7          [educ, smsa, black, exper, lwage]        []   \n",
       "8                        [educ, smsa, lwage]        []   \n",
       "\n",
       "                  non_colliders  \n",
       "0         [nearc4, smsa, black]  \n",
       "1  [nearc4, smsa, black, exper]  \n",
       "2                [nearc4, smsa]  \n",
       "3                       [black]  \n",
       "4                [black, exper]  \n",
       "5                 [black, smsa]  \n",
       "6                 [smsa, black]  \n",
       "7          [smsa, black, exper]  \n",
       "8                        [smsa]  "
      ]
     },
     "metadata": {},
     "output_type": "display_data"
    },
    {
     "name": "stdout",
     "output_type": "stream",
     "text": [
      "Descendants of educ are: {'lwage', 'exper', 'educ'}\n",
      "These variables cannot be included in the adjustment set.\n",
      "Estimand type: EstimandType.NONPARAMETRIC_ATE\n",
      "\n",
      "### Estimand : 1\n",
      "Estimand name: backdoor\n",
      "Estimand expression:\n",
      "   d                        \n",
      "───────(E[lwage|smsa,black])\n",
      "d[educ]                     \n",
      "Estimand assumption 1, Unconfoundedness: If U→{educ} and U→lwage then P(lwage|educ,smsa,black,U) = P(lwage|educ,smsa,black)\n",
      "\n",
      "### Estimand : 2\n",
      "Estimand name: iv\n",
      "No such variable(s) found!\n",
      "\n",
      "### Estimand : 3\n",
      "Estimand name: frontdoor\n",
      "No such variable(s) found!\n",
      "\n"
     ]
    }
   ],
   "source": [
    "from graph import load_graph\n",
    "import pandas as pd\n",
    "import networkx as nx\n",
    "import numpy as np\n",
    "\n",
    "G = load_graph(version=3)\n",
    "# nx.draw(G, with_labels=True, node_size=1000, font_size=8)\n",
    "\n",
    "adjustment_variables = backdoor_criterion(G)\n",
    "display(adjustment_variables)\n",
    "print(f\"Descendants of educ are: {nx.descendants(G,'educ') | {'educ'}}\")\n",
    "print(\"These variables cannot be included in the adjustment set.\")\n",
    "dowhy_backdoor(\"graph_files/graph_version3.gml\")\n"
   ]
  },
  {
   "cell_type": "markdown",
   "metadata": {},
   "source": []
  },
  {
   "cell_type": "code",
   "execution_count": 22,
   "metadata": {},
   "outputs": [
    {
     "name": "stdout",
     "output_type": "stream",
     "text": [
      "Estimand type: EstimandType.NONPARAMETRIC_ATE\n",
      "\n",
      "### Estimand : 1\n",
      "Estimand name: backdoor\n",
      "Estimand expression:\n",
      "   d                          \n",
      "───────(E[lwage|nearc4,black])\n",
      "d[educ]                       \n",
      "Estimand assumption 1, Unconfoundedness: If U→{educ} and U→lwage then P(lwage|educ,nearc4,black,U) = P(lwage|educ,nearc4,black)\n",
      "\n",
      "### Estimand : 2\n",
      "Estimand name: iv\n",
      "No such variable(s) found!\n",
      "\n",
      "### Estimand : 3\n",
      "Estimand name: frontdoor\n",
      "No such variable(s) found!\n",
      "\n"
     ]
    }
   ],
   "source": [
    "identified_estimand = model.identify_effect(proceed_when_unidentifiable=True)\n",
    "print(identified_estimand)"
   ]
  },
  {
   "cell_type": "code",
   "execution_count": 23,
   "metadata": {},
   "outputs": [
    {
     "name": "stdout",
     "output_type": "stream",
     "text": [
      "*** Causal Estimate ***\n",
      "\n",
      "## Identified estimand\n",
      "Estimand type: EstimandType.NONPARAMETRIC_ATE\n",
      "\n",
      "### Estimand : 1\n",
      "Estimand name: backdoor\n",
      "Estimand expression:\n",
      "   d                          \n",
      "───────(E[lwage|nearc4,black])\n",
      "d[educ]                       \n",
      "Estimand assumption 1, Unconfoundedness: If U→{educ} and U→lwage then P(lwage|educ,nearc4,black,U) = P(lwage|educ,nearc4,black)\n",
      "\n",
      "## Realized estimand\n",
      "b: lwage~educ+nearc4+black\n",
      "Target units: ate\n",
      "\n",
      "## Estimate\n",
      "Mean value: 0.03908018280075343\n",
      "\n",
      "Causal Estimate is 0.03908018280075343\n"
     ]
    },
    {
     "name": "stderr",
     "output_type": "stream",
     "text": [
      "C:\\Users\\Harry\\anaconda3\\Lib\\site-packages\\dowhy\\causal_estimators\\regression_estimator.py:179: FutureWarning: Series.__getitem__ treating keys as positions is deprecated. In a future version, integer keys will always be treated as labels (consistent with DataFrame behavior). To access a value by position, use `ser.iloc[pos]`\n",
      "  intercept_parameter = self.model.params[0]\n"
     ]
    }
   ],
   "source": [
    "causal_estimate = model.estimate_effect(identified_estimand,\n",
    "        method_name=\"backdoor.linear_regression\")\n",
    "print(causal_estimate)\n",
    "print(\"Causal Estimate is \" + str(causal_estimate.value))"
   ]
  },
  {
   "cell_type": "markdown",
   "metadata": {},
   "source": [
    "# Version 4"
   ]
  },
  {
   "cell_type": "code",
   "execution_count": 27,
   "metadata": {},
   "outputs": [],
   "source": [
    "import dowhy\n",
    "from dowhy import CausalModel\n",
    "from IPython.display import Image, display\n",
    "\n",
    "# a utility function to parse the .gml file to string\n",
    "def gml_to_string(file):\n",
    "    gml_str = ''\n",
    "    with open(file, 'r') as file:\n",
    "        for line in file:\n",
    "            gml_str += line.rstrip()\n",
    "    return gml_str\n",
    "\n",
    "\n",
    "def dowhy_backdoor(file):\n",
    "\n",
    "    # creating arbitrary data\n",
    "    df = pd.read_stata(\"data/close_college.dta\")\n",
    "\n",
    "    gml_graph = gml_to_string(file)\n",
    "    # With GML string\n",
    "    model=CausalModel(\n",
    "        data = df,\n",
    "        treatment='educ',\n",
    "        outcome='lwage',\n",
    "        graph=gml_graph\n",
    "    )\n",
    "\n",
    "    identified_estimand = model.identify_effect()\n",
    "    print(identified_estimand)"
   ]
  },
  {
   "cell_type": "code",
   "execution_count": 28,
   "metadata": {},
   "outputs": [],
   "source": [
    "from graph import load_graph\n",
    "import pandas as pd\n",
    "import networkx as nx\n",
    "\n",
    "G = load_graph(version=4)\n",
    "#nx.draw(G, with_labels=True, node_size=1000, font_size=8)"
   ]
  },
  {
   "cell_type": "code",
   "execution_count": 29,
   "metadata": {},
   "outputs": [],
   "source": [
    "gml_graph = gml_to_string('graph_files/graph_version4.gml')"
   ]
  },
  {
   "cell_type": "code",
   "execution_count": 30,
   "metadata": {},
   "outputs": [
    {
     "data": {
      "image/png": "[encoded data removed]",
      "text/plain": [
       "<Figure size 800x600 with 1 Axes>"
      ]
     },
     "metadata": {},
     "output_type": "display_data"
    }
   ],
   "source": [
    "model=CausalModel(\n",
    "        data = df,\n",
    "        treatment='educ',\n",
    "        outcome='lwage',\n",
    "        graph=gml_graph\n",
    "        )\n",
    "model.view_model()"
   ]
  },
  {
   "cell_type": "code",
   "execution_count": 31,
   "metadata": {},
   "outputs": [
    {
     "name": "stdout",
     "output_type": "stream",
     "text": [
      "Estimand type: EstimandType.NONPARAMETRIC_ATE\n",
      "\n",
      "### Estimand : 1\n",
      "Estimand name: backdoor\n",
      "Estimand expression:\n",
      "   d                   \n",
      "───────(E[lwage|black])\n",
      "d[educ]                \n",
      "Estimand assumption 1, Unconfoundedness: If U→{educ} and U→lwage then P(lwage|educ,black,U) = P(lwage|educ,black)\n",
      "\n",
      "### Estimand : 2\n",
      "Estimand name: iv\n",
      "No such variable(s) found!\n",
      "\n",
      "### Estimand : 3\n",
      "Estimand name: frontdoor\n",
      "No such variable(s) found!\n",
      "\n"
     ]
    }
   ],
   "source": [
    "identified_estimand = model.identify_effect(proceed_when_unidentifiable=True)\n",
    "print(identified_estimand)"
   ]
  },
  {
   "cell_type": "code",
   "execution_count": 32,
   "metadata": {},
   "outputs": [
    {
     "name": "stdout",
     "output_type": "stream",
     "text": [
      "*** Causal Estimate ***\n",
      "\n",
      "## Identified estimand\n",
      "Estimand type: EstimandType.NONPARAMETRIC_ATE\n",
      "\n",
      "### Estimand : 1\n",
      "Estimand name: backdoor\n",
      "Estimand expression:\n",
      "   d                   \n",
      "───────(E[lwage|black])\n",
      "d[educ]                \n",
      "Estimand assumption 1, Unconfoundedness: If U→{educ} and U→lwage then P(lwage|educ,black,U) = P(lwage|educ,black)\n",
      "\n",
      "## Realized estimand\n",
      "b: lwage~educ+black\n",
      "Target units: ate\n",
      "\n",
      "## Estimate\n",
      "Mean value: 0.0415694059713001\n",
      "\n",
      "Causal Estimate is 0.0415694059713001\n"
     ]
    },
    {
     "name": "stderr",
     "output_type": "stream",
     "text": [
      "C:\\Users\\Harry\\anaconda3\\Lib\\site-packages\\dowhy\\causal_estimators\\regression_estimator.py:179: FutureWarning: Series.__getitem__ treating keys as positions is deprecated. In a future version, integer keys will always be treated as labels (consistent with DataFrame behavior). To access a value by position, use `ser.iloc[pos]`\n",
      "  intercept_parameter = self.model.params[0]\n"
     ]
    }
   ],
   "source": [
    "causal_estimate = model.estimate_effect(identified_estimand,\n",
    "        method_name=\"backdoor.linear_regression\")\n",
    "print(causal_estimate)\n",
    "print(\"Causal Estimate is \" + str(causal_estimate.value))"
   ]
  },
  {
   "cell_type": "markdown",
   "metadata": {},
   "source": [
    "# Version 5"
   ]
  },
  {
   "cell_type": "code",
   "execution_count": 33,
   "metadata": {},
   "outputs": [],
   "source": [
    "from graph import load_graph\n",
    "import pandas as pd\n",
    "import networkx as nx\n",
    "\n",
    "G = load_graph(version=5)\n",
    "#nx.draw(G, with_labels=True, node_size=1000, font_size=8)"
   ]
  },
  {
   "cell_type": "code",
   "execution_count": 34,
   "metadata": {},
   "outputs": [],
   "source": [
    "gml_graph = gml_to_string('graph_files/graph_version5.gml')"
   ]
  },
  {
   "cell_type": "code",
   "execution_count": 35,
   "metadata": {},
   "outputs": [
    {
     "data": {
      "image/png": "[encoded data removed]",
      "text/plain": [
       "<Figure size 800x600 with 1 Axes>"
      ]
     },
     "metadata": {},
     "output_type": "display_data"
    }
   ],
   "source": [
    "model=CausalModel(\n",
    "        data = df,\n",
    "        treatment='educ',\n",
    "        outcome='lwage',\n",
    "        graph=gml_graph\n",
    "        )\n",
    "model.view_model()"
   ]
  },
  {
   "cell_type": "code",
   "execution_count": 36,
   "metadata": {},
   "outputs": [
    {
     "name": "stdout",
     "output_type": "stream",
     "text": [
      "Estimand type: EstimandType.NONPARAMETRIC_ATE\n",
      "\n",
      "### Estimand : 1\n",
      "Estimand name: backdoor\n",
      "Estimand expression:\n",
      "   d                  \n",
      "───────(E[lwage|smsa])\n",
      "d[educ]               \n",
      "Estimand assumption 1, Unconfoundedness: If U→{educ} and U→lwage then P(lwage|educ,smsa,U) = P(lwage|educ,smsa)\n",
      "\n",
      "### Estimand : 2\n",
      "Estimand name: iv\n",
      "No such variable(s) found!\n",
      "\n",
      "### Estimand : 3\n",
      "Estimand name: frontdoor\n",
      "No such variable(s) found!\n",
      "\n"
     ]
    }
   ],
   "source": [
    "identified_estimand = model.identify_effect(proceed_when_unidentifiable=True)\n",
    "print(identified_estimand)"
   ]
  },
  {
   "cell_type": "code",
   "execution_count": 37,
   "metadata": {},
   "outputs": [
    {
     "name": "stdout",
     "output_type": "stream",
     "text": [
      "*** Causal Estimate ***\n",
      "\n",
      "## Identified estimand\n",
      "Estimand type: EstimandType.NONPARAMETRIC_ATE\n",
      "\n",
      "### Estimand : 1\n",
      "Estimand name: backdoor\n",
      "Estimand expression:\n",
      "   d                  \n",
      "───────(E[lwage|smsa])\n",
      "d[educ]               \n",
      "Estimand assumption 1, Unconfoundedness: If U→{educ} and U→lwage then P(lwage|educ,smsa,U) = P(lwage|educ,smsa)\n",
      "\n",
      "## Realized estimand\n",
      "b: lwage~educ+smsa+educ*black+educ*south\n",
      "Target units: \n",
      "\n",
      "## Estimate\n",
      "Mean value: 0.03525438294474981\n",
      "### Conditional Estimates\n",
      "__categorical__black  __categorical__south\n",
      "(-0.001, 1.0]         (-0.001, 1.0]           0.035254\n",
      "dtype: float64\n",
      "Causal Estimate is 0.03525438294474981\n"
     ]
    },
    {
     "name": "stderr",
     "output_type": "stream",
     "text": [
      "C:\\Users\\Harry\\anaconda3\\Lib\\site-packages\\dowhy\\causal_estimator.py:236: FutureWarning: The default of observed=False is deprecated and will be changed to True in a future version of pandas. Pass observed=False to retain current behavior or observed=True to adopt the future default and silence this warning.\n",
      "  by_effect_mods = data.groupby(effect_modifier_names)\n",
      "C:\\Users\\Harry\\anaconda3\\Lib\\site-packages\\dowhy\\causal_estimators\\regression_estimator.py:179: FutureWarning: Series.__getitem__ treating keys as positions is deprecated. In a future version, integer keys will always be treated as labels (consistent with DataFrame behavior). To access a value by position, use `ser.iloc[pos]`\n",
      "  intercept_parameter = self.model.params[0]\n"
     ]
    }
   ],
   "source": [
    "causal_estimate = model.estimate_effect(identified_estimand,\n",
    "        method_name=\"backdoor.linear_regression\")\n",
    "print(causal_estimate)\n",
    "print(\"Causal Estimate is \" + str(causal_estimate.value))"
   ]
  },
  {
   "cell_type": "code",
   "execution_count": null,
   "metadata": {},
   "outputs": [],
   "source": []
  }
 ],
 "metadata": {
  "kernelspec": {
   "display_name": "Python 3 (ipykernel)",
   "language": "python",
   "name": "python3"
  },
  "language_info": {
   "codemirror_mode": {
    "name": "ipython",
    "version": 3
   },
   "file_extension": ".py",
   "mimetype": "text/x-python",
   "name": "python",
   "nbconvert_exporter": "python",
   "pygments_lexer": "ipython3",
   "version": "3.11.5"
  }
 },
 "nbformat": 4,
 "nbformat_minor": 4
}
