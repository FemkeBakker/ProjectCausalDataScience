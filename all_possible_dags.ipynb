{
 "cells": [
  {
   "cell_type": "markdown",
   "metadata": {},
   "source": [
    "### Generate all possible DAGs of a CPDAG"
   ]
  },
  {
   "cell_type": "code",
   "execution_count": 1,
   "metadata": {},
   "outputs": [],
   "source": [
    "import os\n",
    "import networkx as nx\n",
    "import pandas as pd\n",
    "import re\n",
    "from collections import Counter\n",
    "\n",
    "\n",
    "def check_dags(G, folder):\n",
    "    if not nx.is_directed_acyclic_graph(G):\n",
    "        return False\n",
    "    \n",
    "    all_dags = os.listdir(folder)\n",
    "\n",
    "    current_number = 0\n",
    "    for dag in all_dags:\n",
    "        if dag.endswith(\".gml\"):\n",
    "            current_number += 1\n",
    "\n",
    "        open_dag = nx.read_gml(os.path.join(folder, dag))\n",
    "        if G.edges() == open_dag.edges():\n",
    "            print(f\"Warning: DAG matches with {dag}\")\n",
    "            return False\n",
    "        \n",
    "    file_name = f\"dag{current_number + 1}.gml\"\n",
    "    nx.write_gml(G, f\"{folder}/{file_name}\")\n",
    "    return True\n",
    "\n",
    "from itertools import product\n",
    "\n",
    "def get_all_dags(cpdag, folder):\n",
    "\n",
    "\n",
    "    # all_edges = [[(y,x), (x,y)] for (x,y) in cpdag.edges() if (y,x) in cpdag.edges() ]\n",
    "    \n",
    "    already_checked = []\n",
    "    all_edges = []\n",
    "    for (x,y) in cpdag.edges():\n",
    "        if (x,y) not in already_checked:\n",
    "            already_checked.append((x,y))\n",
    "            already_checked.append((y,x))\n",
    "            if (y,x) in cpdag.edges():\n",
    "                all_edges.append([(x,y), (y,x)])\n",
    "    print(all_edges)\n",
    "\n",
    "\n",
    "    all_combinations = list(product(*all_edges))\n",
    "    results = []\n",
    "    for combination in all_combinations:\n",
    "        edges = list(combination)\n",
    "        possible_dag = cpdag.copy()\n",
    "        possible_dag.remove_edges_from(edges)\n",
    "        results.append(check_dags(possible_dag, folder))\n",
    "\n",
    "    print(f\"There are {len(os.listdir(folder))} DAGs of the {len(all_combinations)} possibile graph when directing the undirected edges.\")\n",
    "    return results\n",
    "    \n",
    "\n"
   ]
  },
  {
   "cell_type": "code",
   "execution_count": 2,
   "metadata": {},
   "outputs": [],
   "source": [
    "import pandas as pd\n",
    "df = pd.read_stata(\"data/close_college.dta\")\n",
    "# display(df.head())\n",
    "\n",
    "def get_positions(input_df):\n",
    "    x =  [0, 1, 1, 0, -1, -1, 0.5, -0.5]\n",
    "    y =  [1, 0.5, -0.5, -1, -0.5, 0.5, 0, 0]\n",
    "    x = [i*4 for i in x]\n",
    "    y = [i*4 for i in y]\n",
    "\n",
    "    pos = dict()\n",
    "    for i in range(len(input_df.columns)):\n",
    "        node = list(input_df.columns.values)[i]\n",
    "        pos[node] = (x[i], y[i])\n",
    "\n",
    "    return pos\n",
    "\n",
    "pos = get_positions(df)\n"
   ]
  },
  {
   "cell_type": "markdown",
   "metadata": {},
   "source": [
    "##### PC with prior knowledge"
   ]
  },
  {
   "cell_type": "code",
   "execution_count": 3,
   "metadata": {},
   "outputs": [
    {
     "name": "stdout",
     "output_type": "stream",
     "text": [
      "[[('nearc4', 'smsa'), ('smsa', 'nearc4')], [('nearc4', 'south'), ('south', 'nearc4')], [('black', 'south'), ('south', 'black')], [('smsa', 'south'), ('south', 'smsa')]]\n",
      "There are 12 DAGs of the 16 possibile graph when directing the undirected edges.\n",
      "Counter({True: 12, False: 4})\n"
     ]
    }
   ],
   "source": [
    "pc_graph_pk = nx.read_gml(\"graph_files/pc_graph_pk.gml\")\n",
    "res = get_all_dags(pc_graph_pk, 'graph_files/PC_CPDAG_graphs')\n",
    "print(Counter(res))"
   ]
  },
  {
   "cell_type": "code",
   "execution_count": 4,
   "metadata": {},
   "outputs": [],
   "source": [
    "# dag2 = nx.read_gml(\"graph_files/PC_CPDAG_graphs/dag4.gml\")\n",
    "# colors = ['red'  if (y,x) in dag2.edges() else 'black' for (x,y) in dag2.edges()]\n",
    "# nx.draw(dag2, with_labels=True, node_size=2000, node_color='w', edgecolors ='black', pos=pos, edge_color=colors)"
   ]
  },
  {
   "cell_type": "markdown",
   "metadata": {},
   "source": [
    "##### PC without prior knowlegde"
   ]
  },
  {
   "cell_type": "code",
   "execution_count": 5,
   "metadata": {},
   "outputs": [
    {
     "name": "stdout",
     "output_type": "stream",
     "text": [
      "[[('nearc4', 'smsa'), ('smsa', 'nearc4')], [('nearc4', 'south'), ('south', 'nearc4')], [('black', 'south'), ('south', 'black')], [('smsa', 'south'), ('south', 'smsa')]]\n",
      "There are 12 DAGs of the 16 possibile graph when directing the undirected edges.\n",
      "Counter({True: 12, False: 4})\n"
     ]
    }
   ],
   "source": [
    "pc_graph_withoutPK = nx.read_gml(\"graph_files/pc_graph_withoutPK.gml\")\n",
    "res = get_all_dags(pc_graph_withoutPK, 'graph_files/PC_withoutPK_CPDAG_graphs')\n",
    "print(Counter(res))"
   ]
  },
  {
   "cell_type": "markdown",
   "metadata": {},
   "source": [
    "##### GES"
   ]
  },
  {
   "cell_type": "code",
   "execution_count": 6,
   "metadata": {},
   "outputs": [
    {
     "name": "stdout",
     "output_type": "stream",
     "text": [
      "[[('nearc4', 'smsa'), ('smsa', 'nearc4')], [('nearc4', 'lwage'), ('lwage', 'nearc4')], [('smsa', 'married'), ('married', 'smsa')], [('smsa', 'exper'), ('exper', 'smsa')], [('smsa', 'lwage'), ('lwage', 'smsa')], [('married', 'exper'), ('exper', 'married')], [('married', 'lwage'), ('lwage', 'married')]]\n",
      "There are 54 DAGs of the 128 possibile graph when directing the undirected edges.\n",
      "Counter({False: 74, True: 54})\n"
     ]
    }
   ],
   "source": [
    "GES_cpdag = nx.read_gml(\"graph_files/cdt_gres_graph.gml\")\n",
    "res = get_all_dags(GES_cpdag, 'graph_files/GES_CPDAG_graphs')\n",
    "print(Counter(res))"
   ]
  },
  {
   "cell_type": "code",
   "execution_count": 26,
   "metadata": {},
   "outputs": [],
   "source": [
    "# colors = ['red'  if (y,x) in GES_cpdag.edges() else 'black' for (x,y) in GES_cpdag.edges()]\n",
    "# nx.draw(GES_cpdag, with_labels=True, node_size=2000, node_color='w', edgecolors ='black', pos=pos, edge_color=colors)"
   ]
  },
  {
   "cell_type": "code",
   "execution_count": 27,
   "metadata": {},
   "outputs": [],
   "source": [
    "# dag = nx.read_gml(\"graph_files/GES_CPDAG_graphs/dag4.gml\")\n",
    "# colors = ['red'  if (y,x) in dag.edges() else 'black' for (x,y) in dag.edges()]\n",
    "# nx.draw(dag, with_labels=True, node_size=2000, node_color='w', edgecolors ='black', pos=pos, edge_color=colors)"
   ]
  }
 ],
 "metadata": {
  "kernelspec": {
   "display_name": "causal_data_science_env",
   "language": "python",
   "name": "python3"
  },
  "language_info": {
   "codemirror_mode": {
    "name": "ipython",
    "version": 3
   },
   "file_extension": ".py",
   "mimetype": "text/x-python",
   "name": "python",
   "nbconvert_exporter": "python",
   "pygments_lexer": "ipython3",
   "version": "3.10.9"
  }
 },
 "nbformat": 4,
 "nbformat_minor": 2
}
