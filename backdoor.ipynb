{
 "cells": [
  {
   "cell_type": "code",
   "execution_count": null,
   "metadata": {},
   "outputs": [],
   "source": []
  },
  {
   "cell_type": "code",
   "execution_count": 1,
   "metadata": {},
   "outputs": [
    {
     "name": "stderr",
     "output_type": "stream",
     "text": [
      "c:\\Users\\femke\\anaconda3\\envs\\causal_data_science_env\\lib\\site-packages\\tqdm\\auto.py:22: TqdmWarning: IProgress not found. Please update jupyter and ipywidgets. See https://ipywidgets.readthedocs.io/en/stable/user_install.html\n",
      "  from .autonotebook import tqdm as notebook_tqdm\n"
     ]
    }
   ],
   "source": [
    "from graph import load_graph\n",
    "import pandas as pd\n",
    "import networkx as nx\n",
    "from dowhy.causal_identifier import backdoor\n",
    "import numpy as np\n"
   ]
  },
  {
   "cell_type": "markdown",
   "metadata": {},
   "source": [
    "### Functions"
   ]
  },
  {
   "cell_type": "code",
   "execution_count": 2,
   "metadata": {},
   "outputs": [],
   "source": [
    "def get_all_possible_paths(graph):\n",
    "    # Get every path between educ and lwage. Do this being converting the graph to undirected.\n",
    "    H = graph.to_undirected()\n",
    "\n",
    "    # the all_simple_paths function finds all possible undirected paths between 'X' and 'Y' in graph H\n",
    "    all_possible_paths = list(nx.all_simple_paths(H, 'educ', 'lwage'))\n",
    "\n",
    "    # print(\"These are all posible paths between educ and lwage.\")\n",
    "    # for path in all_possible_paths:\n",
    "    #     print(path)\n",
    "\n",
    "    return all_possible_paths\n",
    "\n",
    "def get_backdoorpaths(all_possible_paths, graph):\n",
    "    # Get if path in all_possible_path is a backdoor path.\n",
    "    bd = backdoor.Backdoor(graph, 'educ', 'lwage')\n",
    "    backdoor_paths = [path for path in all_possible_paths if bd.is_backdoor(path)]\n",
    "\n",
    "    # print(\"These are all backdoor paths.\")\n",
    "    # for path in backdoor_paths:\n",
    "    #     print(path)\n",
    "\n",
    "    return backdoor_paths\n",
    "\n",
    "\n",
    "def get_adjustment_variables(backdoor_paths, graph):\n",
    "    # Create a dataframe with the paths as rows and for each path the colliders and non-colliders\n",
    "    adjustment_variables = pd.DataFrame(columns=['path', 'colliders', 'non_colliders'])\n",
    "\n",
    "    for path in backdoor_paths:\n",
    "        colliders = np.array([])\n",
    "        non_colliders = []\n",
    "        path_len = len(path)\n",
    "        for node0, node1, node2 in zip(path[0:path_len-2], path[1:path_len-1], path[2:]):\n",
    "            # if there is an arrow pointing into node1 from both sides on the path, it is a collider\n",
    "            if graph.has_edge(node0, node1) and graph.has_edge(node2, node1):\n",
    "                colliders = np.append(colliders, list(nx.descendants(graph,node1)) + [node1]) # so we add it (and all its descendants) to the list\n",
    "\n",
    "        # we flatten the list of list\n",
    "        colliders = colliders.flatten()\n",
    "        non_colliders = [x for x in path[1:-1] if all(x_i != x for x_i in colliders)]\n",
    "\n",
    "        adjustment_variables.loc[len(adjustment_variables.index)] = [path, colliders, non_colliders] \n",
    "\n",
    "    return adjustment_variables  \n"
   ]
  },
  {
   "cell_type": "code",
   "execution_count": 3,
   "metadata": {},
   "outputs": [],
   "source": [
    "def backdoor_criterion(graph):\n",
    "    possible_paths = get_all_possible_paths(graph)\n",
    "    backdoor_paths = get_backdoorpaths(possible_paths, graph)\n",
    "    adjustment_variables = get_adjustment_variables(backdoor_paths, graph)\n",
    "    return adjustment_variables"
   ]
  },
  {
   "cell_type": "markdown",
   "metadata": {},
   "source": [
    "DoWhy functions"
   ]
  },
  {
   "cell_type": "code",
   "execution_count": 4,
   "metadata": {},
   "outputs": [],
   "source": [
    "import dowhy\n",
    "from dowhy import CausalModel\n",
    "from IPython.display import Image, display\n",
    "\n",
    "# a utility function to parse the .gml file to string\n",
    "def gml_to_string(file):\n",
    "    gml_str = ''\n",
    "    with open(file, 'r') as file:\n",
    "        for line in file:\n",
    "            gml_str += line.rstrip()\n",
    "    return gml_str\n",
    "\n",
    "\n",
    "def dowhy_backdoor(file):\n",
    "\n",
    "    # creating arbitrary data\n",
    "    df = pd.read_stata(\"data/close_college.dta\")\n",
    "\n",
    "    gml_graph = gml_to_string(file)\n",
    "    # With GML string\n",
    "    model=CausalModel(\n",
    "        data = df,\n",
    "        treatment='educ',\n",
    "        outcome='lwage',\n",
    "        graph=gml_graph\n",
    "    )\n",
    "\n",
    "    identified_estimand = model.identify_effect()\n",
    "    print(identified_estimand)\n"
   ]
  },
  {
   "cell_type": "markdown",
   "metadata": {},
   "source": [
    "### Backdoor criterion - Graph version = 0"
   ]
  },
  {
   "cell_type": "code",
   "execution_count": 5,
   "metadata": {},
   "outputs": [],
   "source": [
    "from graph import load_graph\n",
    "import pandas as pd\n",
    "import networkx as nx\n",
    "\n",
    "G = load_graph(version=0)\n",
    "# nx.draw(G, with_labels=True, node_size=1000, font_size=8)\n"
   ]
  },
  {
   "cell_type": "markdown",
   "metadata": {},
   "source": [
    "educ -> smsa results in all variables being a descendant of educ\n",
    "\n",
    "And since descendats cannot be in adjustment set, the backdoor criterion cannot be satisfied. Because there are open backdoor paths between educ an lwage qwithout any variable in the adjustment set Z."
   ]
  },
  {
   "cell_type": "code",
   "execution_count": 6,
   "metadata": {},
   "outputs": [
    {
     "data": {
      "text/html": [
       "<div>\n",
       "<style scoped>\n",
       "    .dataframe tbody tr th:only-of-type {\n",
       "        vertical-align: middle;\n",
       "    }\n",
       "\n",
       "    .dataframe tbody tr th {\n",
       "        vertical-align: top;\n",
       "    }\n",
       "\n",
       "    .dataframe thead th {\n",
       "        text-align: right;\n",
       "    }\n",
       "</style>\n",
       "<table border=\"1\" class=\"dataframe\">\n",
       "  <thead>\n",
       "    <tr style=\"text-align: right;\">\n",
       "      <th></th>\n",
       "      <th>path</th>\n",
       "      <th>colliders</th>\n",
       "      <th>non_colliders</th>\n",
       "    </tr>\n",
       "  </thead>\n",
       "  <tbody>\n",
       "    <tr>\n",
       "      <th>0</th>\n",
       "      <td>[educ, nearc4, smsa, south, black, lwage]</td>\n",
       "      <td>[]</td>\n",
       "      <td>[nearc4, smsa, south, black]</td>\n",
       "    </tr>\n",
       "    <tr>\n",
       "      <th>1</th>\n",
       "      <td>[educ, nearc4, smsa, black, lwage]</td>\n",
       "      <td>[]</td>\n",
       "      <td>[nearc4, smsa, black]</td>\n",
       "    </tr>\n",
       "    <tr>\n",
       "      <th>2</th>\n",
       "      <td>[educ, nearc4, smsa, lwage]</td>\n",
       "      <td>[]</td>\n",
       "      <td>[nearc4, smsa]</td>\n",
       "    </tr>\n",
       "    <tr>\n",
       "      <th>3</th>\n",
       "      <td>[educ, black, lwage]</td>\n",
       "      <td>[]</td>\n",
       "      <td>[black]</td>\n",
       "    </tr>\n",
       "    <tr>\n",
       "      <th>4</th>\n",
       "      <td>[educ, black, smsa, lwage]</td>\n",
       "      <td>[]</td>\n",
       "      <td>[black, smsa]</td>\n",
       "    </tr>\n",
       "    <tr>\n",
       "      <th>5</th>\n",
       "      <td>[educ, black, south, smsa, lwage]</td>\n",
       "      <td>[]</td>\n",
       "      <td>[black, south, smsa]</td>\n",
       "    </tr>\n",
       "  </tbody>\n",
       "</table>\n",
       "</div>"
      ],
      "text/plain": [
       "                                        path colliders  \\\n",
       "0  [educ, nearc4, smsa, south, black, lwage]        []   \n",
       "1         [educ, nearc4, smsa, black, lwage]        []   \n",
       "2                [educ, nearc4, smsa, lwage]        []   \n",
       "3                       [educ, black, lwage]        []   \n",
       "4                 [educ, black, smsa, lwage]        []   \n",
       "5          [educ, black, south, smsa, lwage]        []   \n",
       "\n",
       "                  non_colliders  \n",
       "0  [nearc4, smsa, south, black]  \n",
       "1         [nearc4, smsa, black]  \n",
       "2                [nearc4, smsa]  \n",
       "3                       [black]  \n",
       "4                 [black, smsa]  \n",
       "5          [black, south, smsa]  "
      ]
     },
     "metadata": {},
     "output_type": "display_data"
    },
    {
     "name": "stdout",
     "output_type": "stream",
     "text": [
      "Descendants of educ are: {'lwage', 'married', 'black', 'educ', 'exper', 'nearc4', 'south', 'smsa'}\n",
      "These variables cannot be included in the adjustment set.\n"
     ]
    }
   ],
   "source": [
    "adjustment_variables = backdoor_criterion(G)\n",
    "display(adjustment_variables)\n",
    "print(f\"Descendants of educ are: {nx.descendants(G,'educ') | {'educ'}}\")\n",
    "print(\"These variables cannot be included in the adjustment set.\")"
   ]
  },
  {
   "cell_type": "markdown",
   "metadata": {},
   "source": [
    "**Adjustment set**\n",
    "\n",
    "Not possible, backdoor criterion is not satisfied."
   ]
  },
  {
   "cell_type": "markdown",
   "metadata": {},
   "source": [
    "### Backdoor criterion - Graph version = 1"
   ]
  },
  {
   "cell_type": "code",
   "execution_count": 7,
   "metadata": {},
   "outputs": [],
   "source": [
    "from graph import load_graph\n",
    "import pandas as pd\n",
    "import networkx as nx\n",
    "import numpy as np\n",
    "\n",
    "G = load_graph(version=1)\n",
    "# nx.draw(G, with_labels=True, node_size=1000, font_size=8)\n"
   ]
  },
  {
   "cell_type": "code",
   "execution_count": 8,
   "metadata": {},
   "outputs": [
    {
     "data": {
      "text/html": [
       "<div>\n",
       "<style scoped>\n",
       "    .dataframe tbody tr th:only-of-type {\n",
       "        vertical-align: middle;\n",
       "    }\n",
       "\n",
       "    .dataframe tbody tr th {\n",
       "        vertical-align: top;\n",
       "    }\n",
       "\n",
       "    .dataframe thead th {\n",
       "        text-align: right;\n",
       "    }\n",
       "</style>\n",
       "<table border=\"1\" class=\"dataframe\">\n",
       "  <thead>\n",
       "    <tr style=\"text-align: right;\">\n",
       "      <th></th>\n",
       "      <th>path</th>\n",
       "      <th>colliders</th>\n",
       "      <th>non_colliders</th>\n",
       "    </tr>\n",
       "  </thead>\n",
       "  <tbody>\n",
       "    <tr>\n",
       "      <th>0</th>\n",
       "      <td>[educ, nearc4, smsa, south, black, lwage]</td>\n",
       "      <td>[]</td>\n",
       "      <td>[nearc4, smsa, south, black]</td>\n",
       "    </tr>\n",
       "    <tr>\n",
       "      <th>1</th>\n",
       "      <td>[educ, nearc4, smsa, black, lwage]</td>\n",
       "      <td>[]</td>\n",
       "      <td>[nearc4, smsa, black]</td>\n",
       "    </tr>\n",
       "    <tr>\n",
       "      <th>2</th>\n",
       "      <td>[educ, nearc4, smsa, lwage]</td>\n",
       "      <td>[]</td>\n",
       "      <td>[nearc4, smsa]</td>\n",
       "    </tr>\n",
       "    <tr>\n",
       "      <th>3</th>\n",
       "      <td>[educ, black, lwage]</td>\n",
       "      <td>[]</td>\n",
       "      <td>[black]</td>\n",
       "    </tr>\n",
       "    <tr>\n",
       "      <th>4</th>\n",
       "      <td>[educ, black, smsa, lwage]</td>\n",
       "      <td>[]</td>\n",
       "      <td>[black, smsa]</td>\n",
       "    </tr>\n",
       "    <tr>\n",
       "      <th>5</th>\n",
       "      <td>[educ, black, south, smsa, lwage]</td>\n",
       "      <td>[]</td>\n",
       "      <td>[black, south, smsa]</td>\n",
       "    </tr>\n",
       "  </tbody>\n",
       "</table>\n",
       "</div>"
      ],
      "text/plain": [
       "                                        path colliders  \\\n",
       "0  [educ, nearc4, smsa, south, black, lwage]        []   \n",
       "1         [educ, nearc4, smsa, black, lwage]        []   \n",
       "2                [educ, nearc4, smsa, lwage]        []   \n",
       "3                       [educ, black, lwage]        []   \n",
       "4                 [educ, black, smsa, lwage]        []   \n",
       "5          [educ, black, south, smsa, lwage]        []   \n",
       "\n",
       "                  non_colliders  \n",
       "0  [nearc4, smsa, south, black]  \n",
       "1         [nearc4, smsa, black]  \n",
       "2                [nearc4, smsa]  \n",
       "3                       [black]  \n",
       "4                 [black, smsa]  \n",
       "5          [black, south, smsa]  "
      ]
     },
     "metadata": {},
     "output_type": "display_data"
    },
    {
     "name": "stdout",
     "output_type": "stream",
     "text": [
      "Descendants of educ are: {'lwage', 'educ', 'exper'}\n",
      "These variables cannot be included in the adjustment set.\n"
     ]
    }
   ],
   "source": [
    "adjustment_variables = backdoor_criterion(G)\n",
    "display(adjustment_variables)\n",
    "print(f\"Descendants of educ are: {nx.descendants(G,'educ') | {'educ'}}\")\n",
    "print(\"These variables cannot be included in the adjustment set.\")"
   ]
  },
  {
   "cell_type": "markdown",
   "metadata": {},
   "source": [
    "**Adjustment sets**\n",
    "\n",
    "- Minimum: black, nearc4 OR black, smsa\n",
    "\n",
    "Other posibilities\n",
    "- black, nearc4\n",
    "- black, nearc4, smsa\n",
    "- black, nearc4, south\n",
    "- black, nearc4, smsa, south\n"
   ]
  },
  {
   "cell_type": "markdown",
   "metadata": {},
   "source": [
    "**DoWhy**"
   ]
  },
  {
   "cell_type": "code",
   "execution_count": 9,
   "metadata": {},
   "outputs": [
    {
     "name": "stdout",
     "output_type": "stream",
     "text": [
      "Estimand type: EstimandType.NONPARAMETRIC_ATE\n",
      "\n",
      "### Estimand : 1\n",
      "Estimand name: backdoor\n",
      "Estimand expression:\n",
      "   d                          \n",
      "───────(E[lwage|black,nearc4])\n",
      "d[educ]                       \n",
      "Estimand assumption 1, Unconfoundedness: If U→{educ} and U→lwage then P(lwage|educ,black,nearc4,U) = P(lwage|educ,black,nearc4)\n",
      "\n",
      "### Estimand : 2\n",
      "Estimand name: iv\n",
      "No such variable(s) found!\n",
      "\n",
      "### Estimand : 3\n",
      "Estimand name: frontdoor\n",
      "No such variable(s) found!\n",
      "\n"
     ]
    }
   ],
   "source": [
    "import dowhy\n",
    "from dowhy import CausalModel\n",
    "from IPython.display import Image, display\n",
    "\n",
    "# a utility function to parse the .gml file to string\n",
    "def gml_to_string(file):\n",
    "    gml_str = ''\n",
    "    with open(file, 'r') as file:\n",
    "        for line in file:\n",
    "            gml_str += line.rstrip()\n",
    "    return gml_str\n",
    "\n",
    "\n",
    "def dowhy_backdoor(file):\n",
    "\n",
    "    # creating arbitrary data\n",
    "    df = pd.read_stata(\"data/close_college.dta\")\n",
    "\n",
    "    gml_graph = gml_to_string(file)\n",
    "    # With GML string\n",
    "    model=CausalModel(\n",
    "        data = df,\n",
    "        treatment='educ',\n",
    "        outcome='lwage',\n",
    "        graph=gml_graph\n",
    "    )\n",
    "\n",
    "    identified_estimand = model.identify_effect()\n",
    "    print(identified_estimand)\n",
    "\n",
    "dowhy_backdoor(\"graph_files/graph_version1.gml\")"
   ]
  },
  {
   "cell_type": "markdown",
   "metadata": {},
   "source": [
    "#### version 2"
   ]
  },
  {
   "cell_type": "markdown",
   "metadata": {},
   "source": []
  },
  {
   "cell_type": "code",
   "execution_count": 10,
   "metadata": {},
   "outputs": [
    {
     "data": {
      "text/html": [
       "<div>\n",
       "<style scoped>\n",
       "    .dataframe tbody tr th:only-of-type {\n",
       "        vertical-align: middle;\n",
       "    }\n",
       "\n",
       "    .dataframe tbody tr th {\n",
       "        vertical-align: top;\n",
       "    }\n",
       "\n",
       "    .dataframe thead th {\n",
       "        text-align: right;\n",
       "    }\n",
       "</style>\n",
       "<table border=\"1\" class=\"dataframe\">\n",
       "  <thead>\n",
       "    <tr style=\"text-align: right;\">\n",
       "      <th></th>\n",
       "      <th>path</th>\n",
       "      <th>colliders</th>\n",
       "      <th>non_colliders</th>\n",
       "    </tr>\n",
       "  </thead>\n",
       "  <tbody>\n",
       "    <tr>\n",
       "      <th>0</th>\n",
       "      <td>[educ, nearc4, smsa, black, lwage]</td>\n",
       "      <td>[]</td>\n",
       "      <td>[nearc4, smsa, black]</td>\n",
       "    </tr>\n",
       "    <tr>\n",
       "      <th>1</th>\n",
       "      <td>[educ, nearc4, smsa, lwage]</td>\n",
       "      <td>[]</td>\n",
       "      <td>[nearc4, smsa]</td>\n",
       "    </tr>\n",
       "    <tr>\n",
       "      <th>2</th>\n",
       "      <td>[educ, black, lwage]</td>\n",
       "      <td>[]</td>\n",
       "      <td>[black]</td>\n",
       "    </tr>\n",
       "    <tr>\n",
       "      <th>3</th>\n",
       "      <td>[educ, black, smsa, lwage]</td>\n",
       "      <td>[]</td>\n",
       "      <td>[black, smsa]</td>\n",
       "    </tr>\n",
       "    <tr>\n",
       "      <th>4</th>\n",
       "      <td>[educ, smsa, black, lwage]</td>\n",
       "      <td>[]</td>\n",
       "      <td>[smsa, black]</td>\n",
       "    </tr>\n",
       "    <tr>\n",
       "      <th>5</th>\n",
       "      <td>[educ, smsa, lwage]</td>\n",
       "      <td>[]</td>\n",
       "      <td>[smsa]</td>\n",
       "    </tr>\n",
       "  </tbody>\n",
       "</table>\n",
       "</div>"
      ],
      "text/plain": [
       "                                 path colliders          non_colliders\n",
       "0  [educ, nearc4, smsa, black, lwage]        []  [nearc4, smsa, black]\n",
       "1         [educ, nearc4, smsa, lwage]        []         [nearc4, smsa]\n",
       "2                [educ, black, lwage]        []                [black]\n",
       "3          [educ, black, smsa, lwage]        []          [black, smsa]\n",
       "4          [educ, smsa, black, lwage]        []          [smsa, black]\n",
       "5                 [educ, smsa, lwage]        []                 [smsa]"
      ]
     },
     "metadata": {},
     "output_type": "display_data"
    },
    {
     "name": "stdout",
     "output_type": "stream",
     "text": [
      "Descendants of educ are: {'lwage', 'educ', 'exper'}\n",
      "These variables cannot be included in the adjustment set.\n",
      "Estimand type: EstimandType.NONPARAMETRIC_ATE\n",
      "\n",
      "### Estimand : 1\n",
      "Estimand name: backdoor\n",
      "Estimand expression:\n",
      "   d                        \n",
      "───────(E[lwage|smsa,black])\n",
      "d[educ]                     \n",
      "Estimand assumption 1, Unconfoundedness: If U→{educ} and U→lwage then P(lwage|educ,smsa,black,U) = P(lwage|educ,smsa,black)\n",
      "\n",
      "### Estimand : 2\n",
      "Estimand name: iv\n",
      "No such variable(s) found!\n",
      "\n",
      "### Estimand : 3\n",
      "Estimand name: frontdoor\n",
      "No such variable(s) found!\n",
      "\n"
     ]
    }
   ],
   "source": [
    "from graph import load_graph\n",
    "import pandas as pd\n",
    "import networkx as nx\n",
    "import numpy as np\n",
    "\n",
    "G = load_graph(version=2)\n",
    "# nx.draw(G, with_labels=True, node_size=1000, font_size=8)\n",
    "\n",
    "adjustment_variables = backdoor_criterion(G)\n",
    "display(adjustment_variables)\n",
    "print(f\"Descendants of educ are: {nx.descendants(G,'educ') | {'educ'}}\")\n",
    "print(\"These variables cannot be included in the adjustment set.\")\n",
    "dowhy_backdoor(\"graph_files/graph_version2.gml\")\n"
   ]
  },
  {
   "cell_type": "markdown",
   "metadata": {},
   "source": [
    "## VERSION 3"
   ]
  },
  {
   "cell_type": "code",
   "execution_count": 11,
   "metadata": {},
   "outputs": [
    {
     "data": {
      "text/html": [
       "<div>\n",
       "<style scoped>\n",
       "    .dataframe tbody tr th:only-of-type {\n",
       "        vertical-align: middle;\n",
       "    }\n",
       "\n",
       "    .dataframe tbody tr th {\n",
       "        vertical-align: top;\n",
       "    }\n",
       "\n",
       "    .dataframe thead th {\n",
       "        text-align: right;\n",
       "    }\n",
       "</style>\n",
       "<table border=\"1\" class=\"dataframe\">\n",
       "  <thead>\n",
       "    <tr style=\"text-align: right;\">\n",
       "      <th></th>\n",
       "      <th>path</th>\n",
       "      <th>colliders</th>\n",
       "      <th>non_colliders</th>\n",
       "    </tr>\n",
       "  </thead>\n",
       "  <tbody>\n",
       "    <tr>\n",
       "      <th>0</th>\n",
       "      <td>[educ, nearc4, smsa, black, lwage]</td>\n",
       "      <td>[]</td>\n",
       "      <td>[nearc4, smsa, black]</td>\n",
       "    </tr>\n",
       "    <tr>\n",
       "      <th>1</th>\n",
       "      <td>[educ, nearc4, smsa, black, exper, lwage]</td>\n",
       "      <td>[]</td>\n",
       "      <td>[nearc4, smsa, black, exper]</td>\n",
       "    </tr>\n",
       "    <tr>\n",
       "      <th>2</th>\n",
       "      <td>[educ, nearc4, smsa, lwage]</td>\n",
       "      <td>[]</td>\n",
       "      <td>[nearc4, smsa]</td>\n",
       "    </tr>\n",
       "    <tr>\n",
       "      <th>3</th>\n",
       "      <td>[educ, black, lwage]</td>\n",
       "      <td>[]</td>\n",
       "      <td>[black]</td>\n",
       "    </tr>\n",
       "    <tr>\n",
       "      <th>4</th>\n",
       "      <td>[educ, black, exper, lwage]</td>\n",
       "      <td>[]</td>\n",
       "      <td>[black, exper]</td>\n",
       "    </tr>\n",
       "    <tr>\n",
       "      <th>5</th>\n",
       "      <td>[educ, black, smsa, lwage]</td>\n",
       "      <td>[]</td>\n",
       "      <td>[black, smsa]</td>\n",
       "    </tr>\n",
       "    <tr>\n",
       "      <th>6</th>\n",
       "      <td>[educ, smsa, black, lwage]</td>\n",
       "      <td>[]</td>\n",
       "      <td>[smsa, black]</td>\n",
       "    </tr>\n",
       "    <tr>\n",
       "      <th>7</th>\n",
       "      <td>[educ, smsa, black, exper, lwage]</td>\n",
       "      <td>[]</td>\n",
       "      <td>[smsa, black, exper]</td>\n",
       "    </tr>\n",
       "    <tr>\n",
       "      <th>8</th>\n",
       "      <td>[educ, smsa, lwage]</td>\n",
       "      <td>[]</td>\n",
       "      <td>[smsa]</td>\n",
       "    </tr>\n",
       "  </tbody>\n",
       "</table>\n",
       "</div>"
      ],
      "text/plain": [
       "                                        path colliders  \\\n",
       "0         [educ, nearc4, smsa, black, lwage]        []   \n",
       "1  [educ, nearc4, smsa, black, exper, lwage]        []   \n",
       "2                [educ, nearc4, smsa, lwage]        []   \n",
       "3                       [educ, black, lwage]        []   \n",
       "4                [educ, black, exper, lwage]        []   \n",
       "5                 [educ, black, smsa, lwage]        []   \n",
       "6                 [educ, smsa, black, lwage]        []   \n",
       "7          [educ, smsa, black, exper, lwage]        []   \n",
       "8                        [educ, smsa, lwage]        []   \n",
       "\n",
       "                  non_colliders  \n",
       "0         [nearc4, smsa, black]  \n",
       "1  [nearc4, smsa, black, exper]  \n",
       "2                [nearc4, smsa]  \n",
       "3                       [black]  \n",
       "4                [black, exper]  \n",
       "5                 [black, smsa]  \n",
       "6                 [smsa, black]  \n",
       "7          [smsa, black, exper]  \n",
       "8                        [smsa]  "
      ]
     },
     "metadata": {},
     "output_type": "display_data"
    },
    {
     "name": "stdout",
     "output_type": "stream",
     "text": [
      "Descendants of educ are: {'lwage', 'educ', 'exper'}\n",
      "These variables cannot be included in the adjustment set.\n",
      "Estimand type: EstimandType.NONPARAMETRIC_ATE\n",
      "\n",
      "### Estimand : 1\n",
      "Estimand name: backdoor\n",
      "Estimand expression:\n",
      "   d                        \n",
      "───────(E[lwage|smsa,black])\n",
      "d[educ]                     \n",
      "Estimand assumption 1, Unconfoundedness: If U→{educ} and U→lwage then P(lwage|educ,smsa,black,U) = P(lwage|educ,smsa,black)\n",
      "\n",
      "### Estimand : 2\n",
      "Estimand name: iv\n",
      "No such variable(s) found!\n",
      "\n",
      "### Estimand : 3\n",
      "Estimand name: frontdoor\n",
      "No such variable(s) found!\n",
      "\n"
     ]
    }
   ],
   "source": [
    "from graph import load_graph\n",
    "import pandas as pd\n",
    "import networkx as nx\n",
    "import numpy as np\n",
    "\n",
    "G = load_graph(version=3)\n",
    "# nx.draw(G, with_labels=True, node_size=1000, font_size=8)\n",
    "\n",
    "adjustment_variables = backdoor_criterion(G)\n",
    "display(adjustment_variables)\n",
    "print(f\"Descendants of educ are: {nx.descendants(G,'educ') | {'educ'}}\")\n",
    "print(\"These variables cannot be included in the adjustment set.\")\n",
    "dowhy_backdoor(\"graph_files/graph_version2.gml\")\n"
   ]
  },
  {
   "cell_type": "markdown",
   "metadata": {},
   "source": []
  },
  {
   "cell_type": "markdown",
   "metadata": {},
   "source": []
  }
 ],
 "metadata": {
  "kernelspec": {
   "display_name": "causal_data_science_env",
   "language": "python",
   "name": "python3"
  },
  "language_info": {
   "codemirror_mode": {
    "name": "ipython",
    "version": 3
   },
   "file_extension": ".py",
   "mimetype": "text/x-python",
   "name": "python",
   "nbconvert_exporter": "python",
   "pygments_lexer": "ipython3",
   "version": "3.10.9"
  }
 },
 "nbformat": 4,
 "nbformat_minor": 2
}
