{
 "cells": [
  {
   "cell_type": "code",
   "execution_count": 1,
   "id": "ddd8cca2-8ab7-46c5-a8bd-de84c8f77719",
   "metadata": {},
   "outputs": [
    {
     "name": "stderr",
     "output_type": "stream",
     "text": [
      "Detecting 1 CUDA device(s).\n"
     ]
    }
   ],
   "source": [
    "# import necessary packages\n",
    "import cdt\n",
    "import ges\n",
    "import matplotlib.pyplot as plt\n",
    "import networkx as nx\n",
    "import numpy as np\n",
    "import pandas as pd\n",
    "\n",
    "np.random.seed(0)"
   ]
  },
  {
   "cell_type": "code",
   "execution_count": 2,
   "id": "2714c8c3-3d6e-46fc-8345-4285805e39d3",
   "metadata": {},
   "outputs": [
    {
     "data": {
      "text/html": [
       "<div>\n",
       "<style scoped>\n",
       "    .dataframe tbody tr th:only-of-type {\n",
       "        vertical-align: middle;\n",
       "    }\n",
       "\n",
       "    .dataframe tbody tr th {\n",
       "        vertical-align: top;\n",
       "    }\n",
       "\n",
       "    .dataframe thead th {\n",
       "        text-align: right;\n",
       "    }\n",
       "</style>\n",
       "<table border=\"1\" class=\"dataframe\">\n",
       "  <thead>\n",
       "    <tr style=\"text-align: right;\">\n",
       "      <th></th>\n",
       "      <th>nearc4</th>\n",
       "      <th>educ</th>\n",
       "      <th>black</th>\n",
       "      <th>smsa</th>\n",
       "      <th>south</th>\n",
       "      <th>married</th>\n",
       "      <th>exper</th>\n",
       "      <th>lwage</th>\n",
       "    </tr>\n",
       "  </thead>\n",
       "  <tbody>\n",
       "    <tr>\n",
       "      <th>0</th>\n",
       "      <td>0</td>\n",
       "      <td>7</td>\n",
       "      <td>1</td>\n",
       "      <td>1</td>\n",
       "      <td>0</td>\n",
       "      <td>1.0</td>\n",
       "      <td>16</td>\n",
       "      <td>6.306275</td>\n",
       "    </tr>\n",
       "    <tr>\n",
       "      <th>1</th>\n",
       "      <td>0</td>\n",
       "      <td>12</td>\n",
       "      <td>0</td>\n",
       "      <td>1</td>\n",
       "      <td>0</td>\n",
       "      <td>1.0</td>\n",
       "      <td>9</td>\n",
       "      <td>6.175867</td>\n",
       "    </tr>\n",
       "    <tr>\n",
       "      <th>2</th>\n",
       "      <td>0</td>\n",
       "      <td>12</td>\n",
       "      <td>0</td>\n",
       "      <td>1</td>\n",
       "      <td>0</td>\n",
       "      <td>1.0</td>\n",
       "      <td>16</td>\n",
       "      <td>6.580639</td>\n",
       "    </tr>\n",
       "    <tr>\n",
       "      <th>3</th>\n",
       "      <td>1</td>\n",
       "      <td>11</td>\n",
       "      <td>0</td>\n",
       "      <td>1</td>\n",
       "      <td>0</td>\n",
       "      <td>1.0</td>\n",
       "      <td>10</td>\n",
       "      <td>5.521461</td>\n",
       "    </tr>\n",
       "    <tr>\n",
       "      <th>4</th>\n",
       "      <td>1</td>\n",
       "      <td>12</td>\n",
       "      <td>0</td>\n",
       "      <td>1</td>\n",
       "      <td>0</td>\n",
       "      <td>1.0</td>\n",
       "      <td>16</td>\n",
       "      <td>6.591674</td>\n",
       "    </tr>\n",
       "  </tbody>\n",
       "</table>\n",
       "</div>"
      ],
      "text/plain": [
       "   nearc4  educ  black  smsa  south  married  exper     lwage\n",
       "0       0     7      1     1      0      1.0     16  6.306275\n",
       "1       0    12      0     1      0      1.0      9  6.175867\n",
       "2       0    12      0     1      0      1.0     16  6.580639\n",
       "3       1    11      0     1      0      1.0     10  5.521461\n",
       "4       1    12      0     1      0      1.0     16  6.591674"
      ]
     },
     "metadata": {},
     "output_type": "display_data"
    },
    {
     "data": {
      "text/plain": [
       "(3010, 8)"
      ]
     },
     "execution_count": 2,
     "metadata": {},
     "output_type": "execute_result"
    }
   ],
   "source": [
    "df = pd.read_stata(\"data/close_college.dta\")\n",
    "display(df.head())\n",
    "df.shape"
   ]
  },
  {
   "cell_type": "code",
   "execution_count": 9,
   "id": "57666586-0291-4ed0-a429-ac8b18677f58",
   "metadata": {},
   "outputs": [],
   "source": [
    "import dowhy\n",
    "from dowhy import CausalModel\n",
    "from IPython.display import Image, display\n",
    "\n",
    "# a utility function to parse the .gml file to string\n",
    "def gml_to_string(file):\n",
    "    gml_str = ''\n",
    "    with open(file, 'r') as file:\n",
    "        for line in file:\n",
    "            gml_str += line.rstrip()\n",
    "    return gml_str\n",
    "\n",
    "\n",
    "def dowhy_backdoor(file):\n",
    "\n",
    "    # creating arbitrary data\n",
    "    df = pd.read_stata(\"data/close_college.dta\")\n",
    "\n",
    "    gml_graph = gml_to_string(file)\n",
    "    # With GML string\n",
    "    model=CausalModel(\n",
    "        data = df,\n",
    "        treatment='educ',\n",
    "        outcome='lwage',\n",
    "        graph=gml_graph\n",
    "    )\n",
    "\n",
    "    identified_estimand = model.identify_effect()\n",
    "    print(identified_estimand)"
   ]
  },
  {
   "cell_type": "code",
   "execution_count": 25,
   "id": "e00792ab-ec8b-42fd-9017-80bf2da7239d",
   "metadata": {},
   "outputs": [],
   "source": [
    "from graph import load_graph\n",
    "import pandas as pd\n",
    "import networkx as nx\n",
    "\n",
    "G = load_graph(version=3)\n",
    "#nx.draw(G, with_labels=True, node_size=1000, font_size=8)"
   ]
  },
  {
   "cell_type": "code",
   "execution_count": 28,
   "id": "6e2df95b-f66b-448c-b1fe-56190e0534bc",
   "metadata": {},
   "outputs": [],
   "source": [
    "gml_graph = gml_to_string('graph_files/graph_version3.gml')"
   ]
  },
  {
   "cell_type": "code",
   "execution_count": 29,
   "id": "e6dfb4b9-1304-4aa6-a688-c23dca10441f",
   "metadata": {},
   "outputs": [
    {
     "data": {
      "image/png": "[encoded data removed]",
      "text/plain": [
       "<Figure size 800x600 with 1 Axes>"
      ]
     },
     "metadata": {},
     "output_type": "display_data"
    }
   ],
   "source": [
    "model=CausalModel(\n",
    "        data = df,\n",
    "        treatment='educ',\n",
    "        outcome='lwage',\n",
    "        graph=gml_graph\n",
    "        )\n",
    "model.view_model()"
   ]
  },
  {
   "cell_type": "code",
   "execution_count": 31,
   "id": "454dd1ed-f9bf-421b-9958-d48d0cb96d29",
   "metadata": {},
   "outputs": [
    {
     "name": "stdout",
     "output_type": "stream",
     "text": [
      "Estimand type: EstimandType.NONPARAMETRIC_ATE\n",
      "\n",
      "### Estimand : 1\n",
      "Estimand name: backdoor\n",
      "Estimand expression:\n",
      "   d                        \n",
      "───────(E[lwage|smsa,black])\n",
      "d[educ]                     \n",
      "Estimand assumption 1, Unconfoundedness: If U→{educ} and U→lwage then P(lwage|educ,smsa,black,U) = P(lwage|educ,smsa,black)\n",
      "\n",
      "### Estimand : 2\n",
      "Estimand name: iv\n",
      "No such variable(s) found!\n",
      "\n",
      "### Estimand : 3\n",
      "Estimand name: frontdoor\n",
      "No such variable(s) found!\n",
      "\n"
     ]
    }
   ],
   "source": [
    "identified_estimand = model.identify_effect(proceed_when_unidentifiable=True)\n",
    "print(identified_estimand)"
   ]
  },
  {
   "cell_type": "code",
   "execution_count": 32,
   "id": "da3e2b9c-b65c-4e04-b95f-11112faec53a",
   "metadata": {},
   "outputs": [
    {
     "name": "stdout",
     "output_type": "stream",
     "text": [
      "*** Causal Estimate ***\n",
      "\n",
      "## Identified estimand\n",
      "Estimand type: EstimandType.NONPARAMETRIC_ATE\n",
      "\n",
      "### Estimand : 1\n",
      "Estimand name: backdoor\n",
      "Estimand expression:\n",
      "   d                        \n",
      "───────(E[lwage|smsa,black])\n",
      "d[educ]                     \n",
      "Estimand assumption 1, Unconfoundedness: If U→{educ} and U→lwage then P(lwage|educ,smsa,black,U) = P(lwage|educ,smsa,black)\n",
      "\n",
      "## Realized estimand\n",
      "b: lwage~educ+smsa+black\n",
      "Target units: ate\n",
      "\n",
      "## Estimate\n",
      "Mean value: 0.035679609300339976\n",
      "\n",
      "Causal Estimate is 0.035679609300339976\n"
     ]
    },
    {
     "name": "stderr",
     "output_type": "stream",
     "text": [
      "Series.__getitem__ treating keys as positions is deprecated. In a future version, integer keys will always be treated as labels (consistent with DataFrame behavior). To access a value by position, use `ser.iloc[pos]`\n"
     ]
    }
   ],
   "source": [
    "causal_estimate = model.estimate_effect(identified_estimand,\n",
    "        method_name=\"backdoor.linear_regression\")\n",
    "print(causal_estimate)\n",
    "print(\"Causal Estimate is \" + str(causal_estimate.value))"
   ]
  },
  {
   "cell_type": "code",
   "execution_count": 42,
   "id": "ef87efb8-cad7-44f5-9d61-c90770339791",
   "metadata": {},
   "outputs": [
    {
     "ename": "Exception",
     "evalue": "Propensity score methods are applicable only for binary treatments",
     "output_type": "error",
     "traceback": [
      "\u001b[1;31m---------------------------------------------------------------------------\u001b[0m",
      "\u001b[1;31mException\u001b[0m                                 Traceback (most recent call last)",
      "Cell \u001b[1;32mIn[42], line 1\u001b[0m\n\u001b[1;32m----> 1\u001b[0m causal_estimate \u001b[38;5;241m=\u001b[39m model\u001b[38;5;241m.\u001b[39mestimate_effect(identified_estimand,\n\u001b[0;32m      2\u001b[0m         method_name\u001b[38;5;241m=\u001b[39m\u001b[38;5;124m\"\u001b[39m\u001b[38;5;124mbackdoor.propensity_score_stratification\u001b[39m\u001b[38;5;124m\"\u001b[39m)\n\u001b[0;32m      3\u001b[0m \u001b[38;5;28mprint\u001b[39m(causal_estimate)\n\u001b[0;32m      4\u001b[0m \u001b[38;5;28mprint\u001b[39m(\u001b[38;5;124m\"\u001b[39m\u001b[38;5;124mCausal Estimate is \u001b[39m\u001b[38;5;124m\"\u001b[39m \u001b[38;5;241m+\u001b[39m \u001b[38;5;28mstr\u001b[39m(causal_estimate\u001b[38;5;241m.\u001b[39mvalue))\n",
      "File \u001b[1;32m~\\anaconda3\\Lib\\site-packages\\dowhy\\causal_model.py:360\u001b[0m, in \u001b[0;36mCausalModel.estimate_effect\u001b[1;34m(self, identified_estimand, method_name, control_value, treatment_value, test_significance, evaluate_effect_strength, confidence_intervals, target_units, effect_modifiers, fit_estimator, method_params)\u001b[0m\n\u001b[0;32m    349\u001b[0m         causal_estimator \u001b[38;5;241m=\u001b[39m causal_estimator_class(\n\u001b[0;32m    350\u001b[0m             identified_estimand,\n\u001b[0;32m    351\u001b[0m             test_significance\u001b[38;5;241m=\u001b[39mtest_significance,\n\u001b[1;32m   (...)\u001b[0m\n\u001b[0;32m    355\u001b[0m             \u001b[38;5;241m*\u001b[39m\u001b[38;5;241m*\u001b[39mextra_args,\n\u001b[0;32m    356\u001b[0m         )\n\u001b[0;32m    358\u001b[0m         \u001b[38;5;28mself\u001b[39m\u001b[38;5;241m.\u001b[39m_estimator_cache[method_name] \u001b[38;5;241m=\u001b[39m causal_estimator\n\u001b[1;32m--> 360\u001b[0m \u001b[38;5;28;01mreturn\u001b[39;00m estimate_effect(\n\u001b[0;32m    361\u001b[0m     \u001b[38;5;28mself\u001b[39m\u001b[38;5;241m.\u001b[39m_data,\n\u001b[0;32m    362\u001b[0m     \u001b[38;5;28mself\u001b[39m\u001b[38;5;241m.\u001b[39m_treatment,\n\u001b[0;32m    363\u001b[0m     \u001b[38;5;28mself\u001b[39m\u001b[38;5;241m.\u001b[39m_outcome,\n\u001b[0;32m    364\u001b[0m     identifier_name,\n\u001b[0;32m    365\u001b[0m     causal_estimator,\n\u001b[0;32m    366\u001b[0m     control_value,\n\u001b[0;32m    367\u001b[0m     treatment_value,\n\u001b[0;32m    368\u001b[0m     target_units,\n\u001b[0;32m    369\u001b[0m     effect_modifiers,\n\u001b[0;32m    370\u001b[0m     fit_estimator,\n\u001b[0;32m    371\u001b[0m     method_params,\n\u001b[0;32m    372\u001b[0m )\n",
      "File \u001b[1;32m~\\anaconda3\\Lib\\site-packages\\dowhy\\causal_estimator.py:719\u001b[0m, in \u001b[0;36mestimate_effect\u001b[1;34m(data, treatment, outcome, identifier_name, estimator, control_value, treatment_value, target_units, effect_modifiers, fit_estimator, method_params)\u001b[0m\n\u001b[0;32m    714\u001b[0m     \u001b[38;5;28;01mreturn\u001b[39;00m CausalEstimate(\n\u001b[0;32m    715\u001b[0m         \u001b[38;5;28;01mNone\u001b[39;00m, \u001b[38;5;28;01mNone\u001b[39;00m, \u001b[38;5;28;01mNone\u001b[39;00m, \u001b[38;5;28;01mNone\u001b[39;00m, \u001b[38;5;28;01mNone\u001b[39;00m, \u001b[38;5;28;01mNone\u001b[39;00m, control_value\u001b[38;5;241m=\u001b[39mcontrol_value, treatment_value\u001b[38;5;241m=\u001b[39mtreatment_value\n\u001b[0;32m    716\u001b[0m     )\n\u001b[0;32m    718\u001b[0m \u001b[38;5;28;01mif\u001b[39;00m fit_estimator:\n\u001b[1;32m--> 719\u001b[0m     estimator\u001b[38;5;241m.\u001b[39mfit(\n\u001b[0;32m    720\u001b[0m         data\u001b[38;5;241m=\u001b[39mdata,\n\u001b[0;32m    721\u001b[0m         effect_modifier_names\u001b[38;5;241m=\u001b[39meffect_modifiers,\n\u001b[0;32m    722\u001b[0m         \u001b[38;5;241m*\u001b[39m\u001b[38;5;241m*\u001b[39mmethod_params[\u001b[38;5;124m\"\u001b[39m\u001b[38;5;124mfit_params\u001b[39m\u001b[38;5;124m\"\u001b[39m] \u001b[38;5;28;01mif\u001b[39;00m \u001b[38;5;124m\"\u001b[39m\u001b[38;5;124mfit_params\u001b[39m\u001b[38;5;124m\"\u001b[39m \u001b[38;5;129;01min\u001b[39;00m method_params \u001b[38;5;28;01melse\u001b[39;00m {},\n\u001b[0;32m    723\u001b[0m     )\n\u001b[0;32m    725\u001b[0m estimate \u001b[38;5;241m=\u001b[39m estimator\u001b[38;5;241m.\u001b[39mestimate_effect(\n\u001b[0;32m    726\u001b[0m     data,\n\u001b[0;32m    727\u001b[0m     treatment_value\u001b[38;5;241m=\u001b[39mtreatment_value,\n\u001b[1;32m   (...)\u001b[0m\n\u001b[0;32m    730\u001b[0m     confidence_intervals\u001b[38;5;241m=\u001b[39mestimator\u001b[38;5;241m.\u001b[39m_confidence_intervals,\n\u001b[0;32m    731\u001b[0m )\n\u001b[0;32m    733\u001b[0m \u001b[38;5;28;01mif\u001b[39;00m estimator\u001b[38;5;241m.\u001b[39m_significance_test:\n",
      "File \u001b[1;32m~\\anaconda3\\Lib\\site-packages\\dowhy\\causal_estimators\\propensity_score_stratification_estimator.py:108\u001b[0m, in \u001b[0;36mPropensityScoreStratificationEstimator.fit\u001b[1;34m(self, data, effect_modifier_names)\u001b[0m\n\u001b[0;32m     94\u001b[0m \u001b[38;5;28;01mdef\u001b[39;00m \u001b[38;5;21mfit\u001b[39m(\n\u001b[0;32m     95\u001b[0m     \u001b[38;5;28mself\u001b[39m,\n\u001b[0;32m     96\u001b[0m     data: pd\u001b[38;5;241m.\u001b[39mDataFrame,\n\u001b[0;32m     97\u001b[0m     effect_modifier_names: Optional[List[\u001b[38;5;28mstr\u001b[39m]] \u001b[38;5;241m=\u001b[39m \u001b[38;5;28;01mNone\u001b[39;00m,\n\u001b[0;32m     98\u001b[0m ):\n\u001b[0;32m     99\u001b[0m \u001b[38;5;250m    \u001b[39m\u001b[38;5;124;03m\"\"\"\u001b[39;00m\n\u001b[0;32m    100\u001b[0m \u001b[38;5;124;03m    Fits the estimator with data for effect estimation\u001b[39;00m\n\u001b[0;32m    101\u001b[0m \u001b[38;5;124;03m    :param data: data frame containing the data\u001b[39;00m\n\u001b[1;32m   (...)\u001b[0m\n\u001b[0;32m    106\u001b[0m \u001b[38;5;124;03m                methods support this currently.\u001b[39;00m\n\u001b[0;32m    107\u001b[0m \u001b[38;5;124;03m    \"\"\"\u001b[39;00m\n\u001b[1;32m--> 108\u001b[0m     \u001b[38;5;28msuper\u001b[39m()\u001b[38;5;241m.\u001b[39mfit(data, effect_modifier_names\u001b[38;5;241m=\u001b[39meffect_modifier_names)\n\u001b[0;32m    109\u001b[0m     \u001b[38;5;28mself\u001b[39m\u001b[38;5;241m.\u001b[39msymbolic_estimator \u001b[38;5;241m=\u001b[39m \u001b[38;5;28mself\u001b[39m\u001b[38;5;241m.\u001b[39mconstruct_symbolic_estimator(\u001b[38;5;28mself\u001b[39m\u001b[38;5;241m.\u001b[39m_target_estimand)\n\u001b[0;32m    110\u001b[0m     \u001b[38;5;28mself\u001b[39m\u001b[38;5;241m.\u001b[39mlogger\u001b[38;5;241m.\u001b[39minfo(\u001b[38;5;28mself\u001b[39m\u001b[38;5;241m.\u001b[39msymbolic_estimator)\n",
      "File \u001b[1;32m~\\anaconda3\\Lib\\site-packages\\dowhy\\causal_estimators\\propensity_score_estimator.py:122\u001b[0m, in \u001b[0;36mPropensityScoreEstimator.fit\u001b[1;34m(self, data, effect_modifier_names)\u001b[0m\n\u001b[0;32m    120\u001b[0m     error_msg \u001b[38;5;241m=\u001b[39m \u001b[38;5;124m\"\u001b[39m\u001b[38;5;124mPropensity score methods are applicable only for binary treatments\u001b[39m\u001b[38;5;124m\"\u001b[39m\n\u001b[0;32m    121\u001b[0m     \u001b[38;5;28mself\u001b[39m\u001b[38;5;241m.\u001b[39mlogger\u001b[38;5;241m.\u001b[39merror(error_msg)\n\u001b[1;32m--> 122\u001b[0m     \u001b[38;5;28;01mraise\u001b[39;00m \u001b[38;5;167;01mException\u001b[39;00m(error_msg)\n\u001b[0;32m    124\u001b[0m \u001b[38;5;28;01mif\u001b[39;00m \u001b[38;5;28mself\u001b[39m\u001b[38;5;241m.\u001b[39mpropensity_score_column \u001b[38;5;129;01mnot\u001b[39;00m \u001b[38;5;129;01min\u001b[39;00m data:\n\u001b[0;32m    125\u001b[0m     \u001b[38;5;28;01mif\u001b[39;00m \u001b[38;5;28mself\u001b[39m\u001b[38;5;241m.\u001b[39mpropensity_score_model \u001b[38;5;129;01mis\u001b[39;00m \u001b[38;5;28;01mNone\u001b[39;00m:\n",
      "\u001b[1;31mException\u001b[0m: Propensity score methods are applicable only for binary treatments"
     ]
    }
   ],
   "source": [
    "causal_estimate = model.estimate_effect(identified_estimand,\n",
    "        method_name=\"backdoor.propensity_score_stratification\")\n",
    "print(causal_estimate)\n",
    "print(\"Causal Estimate is \" + str(causal_estimate.value))"
   ]
  },
  {
   "cell_type": "code",
   "execution_count": 35,
   "id": "8da6918b-1e6c-4351-90c6-08e08306abcc",
   "metadata": {},
   "outputs": [
    {
     "name": "stdout",
     "output_type": "stream",
     "text": [
      "Estimation failed! No relevant identified estimand available for this estimation method.\n",
      "Causal Estimate is None\n"
     ]
    }
   ],
   "source": [
    "# using the instrumental variables\n",
    "causal_estimate = model.estimate_effect(identified_estimand,\n",
    "        method_name=\"backdoor.instrumental_variable\")\n",
    "print(causal_estimate)\n",
    "print(\"Causal Estimate is \" + str(causal_estimate.value))"
   ]
  },
  {
   "cell_type": "code",
   "execution_count": null,
   "id": "c9dad8bc-80dc-4219-9434-7f3a6ed4837b",
   "metadata": {},
   "outputs": [],
   "source": []
  }
 ],
 "metadata": {
  "kernelspec": {
   "display_name": "Python 3 (ipykernel)",
   "language": "python",
   "name": "python3"
  },
  "language_info": {
   "codemirror_mode": {
    "name": "ipython",
    "version": 3
   },
   "file_extension": ".py",
   "mimetype": "text/x-python",
   "name": "python",
   "nbconvert_exporter": "python",
   "pygments_lexer": "ipython3",
   "version": "3.11.5"
  }
 },
 "nbformat": 4,
 "nbformat_minor": 5
}
